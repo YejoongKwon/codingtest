{
 "cells": [
  {
   "cell_type": "code",
   "execution_count": null,
   "id": "9c03ee87-c5f4-4a8e-858f-ed3f0c0b765c",
   "metadata": {},
   "outputs": [],
   "source": [
    "        #__delete_recursion 메서드 호출 결과를 새로운 루트로 설정함.\n",
    "def delete(self, target):\n",
    "    self.root, deleted = self._delete_value(self.root,key)\n",
    "    return deleted\n",
    "\n",
    "\n",
    "def _delete_value(self,node,key):\n",
    "    if node is None:\n",
    "        return node,False\n",
    "\n",
    "    deleted = False\n",
    "    if key == node.data:\n",
    "        deleted = True\n",
    "        if node.left and node.right:\n",
    "            #replace the node to the leftmost of node.right\n",
    "            parent, child = node, node.right\n",
    "            while child.left is not None:\n",
    "                parent, child = child, child.left\n",
    "            child.left = node.left\n",
    "            if parent != node:\n",
    "                parent.left = child.right\n",
    "                child.right = node.right\n",
    "            node = child\n",
    "        elif node.left or node.right:\n",
    "            node = node.left or node.right\n",
    "        else:\n",
    "            node = None\n",
    "\n",
    "    elif key < node.data:\n",
    "        node.left, deleted self._delete_value(node.left,key)\n",
    "    else:\n",
    "        node.right, deleted = self._delete_value(node.right, key)\n",
    "    return node, deleted"
   ]
  }
 ],
 "metadata": {
  "kernelspec": {
   "display_name": "Python 3 (ipykernel)",
   "language": "python",
   "name": "python3"
  },
  "language_info": {
   "codemirror_mode": {
    "name": "ipython",
    "version": 3
   },
   "file_extension": ".py",
   "mimetype": "text/x-python",
   "name": "python",
   "nbconvert_exporter": "python",
   "pygments_lexer": "ipython3",
   "version": "3.9.13"
  }
 },
 "nbformat": 4,
 "nbformat_minor": 5
}
