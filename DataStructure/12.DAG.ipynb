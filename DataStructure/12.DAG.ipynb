{
 "cells": [
  {
   "metadata": {},
   "cell_type": "markdown",
   "source": "",
   "id": "3157e69696197f75"
  },
  {
   "metadata": {
    "ExecuteTime": {
     "end_time": "2024-05-12T11:08:02.546517Z",
     "start_time": "2024-05-12T11:08:02.538768Z"
    }
   },
   "cell_type": "code",
   "source": [
    "## DAG에 사용할 그래프\n",
    "\n",
    "class DAG:\n",
    "    def __init__(self,vertex_num):\n",
    "        self.adj_list = [[] for _ in range(vertex_num)]\n",
    "        self.visited = [False for _ in range(vertex_num)]\n",
    "        \n",
    "    def add_edge(self,u,v):\n",
    "        #u: tail, v: head\n",
    "        self.adj_list[u].append(v)\n",
    "    \n",
    "    # 위상정렬을 담당하는 메서드\n",
    "    def topological_sort(self):\n",
    "        self.init_visited()\n",
    "        ts_list =[]\n",
    "        for i in range(len(self.visited)):\n",
    "            if not self.visited[i]:\n",
    "                self.dfs(i, ts_list)\n",
    "        ts_list.reverse()\n",
    "        return ts_list\n",
    "    \n",
    "    def init_visited(self):\n",
    "        for i in range(len(self.visited)):\n",
    "            self.visited[i] =False\n",
    "            \n",
    "    def dfs(self,v, ts_list):\n",
    "        self.visited[v] = True\n",
    "        adj_v = self.adj_list[v]\n",
    "        for u in adj_v:\n",
    "            if not self.visited[u]:\n",
    "                self.dfs(u, ts_list)\n",
    "        ts_list.append(v)"
   ],
   "id": "initial_id",
   "outputs": [],
   "execution_count": 4
  },
  {
   "metadata": {
    "ExecuteTime": {
     "end_time": "2024-05-12T11:08:24.865257Z",
     "start_time": "2024-05-12T11:08:24.859898Z"
    }
   },
   "cell_type": "code",
   "source": [
    "if __name__ == \"__main__\":\n",
    "    d = DAG(7);\n",
    "    d.add_edge(0,4);\n",
    "    d.add_edge(1,3);\n",
    "    d.add_edge(1,4);\n",
    "    d.add_edge(2,3);\n",
    "    d.add_edge(3,5);\n",
    "    d.add_edge(3,6);\n",
    "    d.add_edge(4,2);\n",
    "    \n",
    "    ts_list = d.topological_sort()\n",
    "    \n",
    "    for i in ts_list:\n",
    "        print(i,end=\" \")\n"
   ],
   "id": "e5f63f8d09abc93f",
   "outputs": [
    {
     "name": "stdout",
     "output_type": "stream",
     "text": [
      "1 0 4 2 3 6 5 "
     ]
    }
   ],
   "execution_count": 6
  },
  {
   "metadata": {},
   "cell_type": "markdown",
   "source": [
    "\n",
    "\n"
   ],
   "id": "26c12b8518099ae8"
  },
  {
   "metadata": {
    "ExecuteTime": {
     "end_time": "2024-05-12T10:39:08.847338Z",
     "start_time": "2024-05-12T10:39:08.837753Z"
    }
   },
   "cell_type": "code",
   "source": "[[] for _ in range(7)]",
   "id": "fb7c5010f3dfd935",
   "outputs": [
    {
     "data": {
      "text/plain": [
       "[[], [], [], [], [], [], []]"
      ]
     },
     "execution_count": 2,
     "metadata": {},
     "output_type": "execute_result"
    }
   ],
   "execution_count": 2
  },
  {
   "metadata": {
    "ExecuteTime": {
     "end_time": "2024-05-12T10:39:22.063524Z",
     "start_time": "2024-05-12T10:39:22.060446Z"
    }
   },
   "cell_type": "code",
   "source": "[False for _ in range(7)]",
   "id": "bcef2869292ee213",
   "outputs": [
    {
     "data": {
      "text/plain": [
       "[False, False, False, False, False, False, False]"
      ]
     },
     "execution_count": 3,
     "metadata": {},
     "output_type": "execute_result"
    }
   ],
   "execution_count": 3
  }
 ],
 "metadata": {
  "kernelspec": {
   "display_name": "Python 3",
   "language": "python",
   "name": "python3"
  },
  "language_info": {
   "codemirror_mode": {
    "name": "ipython",
    "version": 2
   },
   "file_extension": ".py",
   "mimetype": "text/x-python",
   "name": "python",
   "nbconvert_exporter": "python",
   "pygments_lexer": "ipython2",
   "version": "2.7.6"
  }
 },
 "nbformat": 4,
 "nbformat_minor": 5
}
