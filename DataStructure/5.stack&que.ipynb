{
 "cells": [
  {
   "cell_type": "code",
   "execution_count": null,
   "id": "c3d589e4-cdf3-409a-ab4c-43fa3a7f31e3",
   "metadata": {},
   "outputs": [],
   "source": [
    "s=list()\n",
    "a= [s,'b','c']"
   ]
  },
  {
   "cell_type": "code",
   "execution_count": null,
   "id": "8b18fa94-594e-486c-8dd5-cdd907017fbe",
   "metadata": {},
   "outputs": [],
   "source": [
    "def empty(aa):\n",
    "    if not aa:\n",
    "        return True\n",
    "    else:\n",
    "        return False\n",
    "\n",
    "print(empty(s))\n",
    "print(empty(a))"
   ]
  },
  {
   "cell_type": "markdown",
   "id": "ae20c57e-4340-4fcf-bf29-048a67584f7b",
   "metadata": {},
   "source": [
    "# 스택 : LIFO(last in first out)\n",
    "- object :LIFO 객체\n",
    "- operation\n",
    "  1. empty() -> Boolean : 스택이 비어 있으면 True, 아니면 False\n",
    "  2. push(data) : data를 스택의 맨 위 삽입\n",
    "  3. pop() -> element\n",
    "     : 스택 맨위 데이터를 삭제하며 반환\n",
    "  5. peek() -> element\n",
    "     : 스택 맨위 데이터를 반환만 함"
   ]
  },
  {
   "cell_type": "code",
   "execution_count": 6,
   "id": "35a3bf8f-2cda-4a0a-a574-568e5e7712d7",
   "metadata": {},
   "outputs": [],
   "source": [
    "class Stack:\n",
    "    def __init__(self):\n",
    "        self.container = list() #내부 표현 : 실제 데이터 담을 객체 동적 배열\n",
    "#언더바 한개로는 외부접근 가능, 언더바 2개로는 외부 접근 불가능\n",
    "    \n",
    "    def empty(self):\n",
    "        if not self.container:\n",
    "            return True\n",
    "        else:\n",
    "            return False\n",
    "\n",
    "    def push(self, data):\n",
    "        self.container.append(data)\n",
    "\n",
    "    def pop(self):\n",
    "        if self.empty():\n",
    "            return None\n",
    "        return self.container.pop()\n",
    "\n",
    "    def peek(self):\n",
    "        if self.emtpty():\n",
    "            return None\n",
    "        return self.container[-1]#단순히 동적배열 마지막 데이터를 indexing 함."
   ]
  },
  {
   "cell_type": "markdown",
   "id": "87435648-546a-4367-b087-97c5b40baabd",
   "metadata": {},
   "source": [
    "* class를 호출하는 법\n",
    "  : class명(object).method\n",
    "\n",
    "* 인스턴스? : class가 낳은 자식.\n",
    "* __init__의 기능\n",
    "  : 변수 초기화\n",
    "\n",
    "   \n",
    "* self의 용례\n",
    "  1. 클래스 내부 매서드에서 인스턴스 변수에 접근\n",
    "  2. 클래스 안에서 다른 매서드 호출\n",
    "  3. 인스턴스 생성 : 클래스 내부에서 다른 매서드/속성 호출\n",
    "triple_result"
   ]
  },
  {
   "cell_type": "code",
   "execution_count": 7,
   "id": "02366492-8598-4a77-9735-e93479e573a6",
   "metadata": {},
   "outputs": [],
   "source": [
    "# Create a new stack instance\n",
    "my_stack = Stack()\n",
    "\n",
    "# Push some data into the stack\n",
    "my_stack.push(1)\n",
    "my_stack.push(2)\n",
    "my_stack.push(3)"
   ]
  },
  {
   "cell_type": "code",
   "execution_count": 9,
   "id": "150dd8bb-c69d-4add-ac28-750ffe0fda74",
   "metadata": {},
   "outputs": [
    {
     "name": "stdout",
     "output_type": "stream",
     "text": [
      "3 2 1 "
     ]
    }
   ],
   "source": [
    "while not my_stack.empty():\n",
    "    print(my_stack.pop(), end=' ')"
   ]
  },
  {
   "cell_type": "markdown",
   "id": "78fdbbf8-6725-4237-a263-1506ca9e5c7d",
   "metadata": {},
   "source": [
    "# 큐 : FIFO(first in first out)\n",
    "처음 들어온 데이터 front에, 마지막들어온 데이터 rear에\n",
    "- object :FIFO 객체\n",
    "- operation\n",
    "  1. is_empty() -> Boolean : 큐가 비어 있으면 True, 아니면 False\n",
    "  2. is_full() -> Boolean : 큐가 가득 찼으면 True, 아니면 False\n",
    "  3. enqueue(data) : data를 큐의 맨 뒤에 삽입\n",
    "  4. dequeue(data) -> element\n",
    "     : 큐의 맨 처음 데이터를 삭제하면서 반환\n",
    "  5. peek() -> element\n",
    "     : 큐의 맨 처음 데이터를 삭제하지 않고 반환만 함"
   ]
  },
  {
   "cell_type": "code",
   "execution_count": 10,
   "id": "e82e077e-530f-4e4f-a7a2-78f639c67ba1",
   "metadata": {},
   "outputs": [],
   "source": [
    "class Queue:\n",
    "    def __init__(self):\n",
    "        self.container = list()\n",
    "\n",
    "    def empty(self):\n",
    "        if not self.container:\n",
    "            return True\n",
    "        else:\n",
    "            return False\n",
    "\n",
    "    def enqueue(self, data):\n",
    "        self.container.append(data)\n",
    "\n",
    "    def dequeue(self, data):\n",
    "        return self.container.pop(0)\n",
    "   #동적 배열의 맨 처음 데이터 삭제 : 최악의 경우 O(n)\n",
    "    #좀더 효율적으로 구현?\n",
    "\n",
    "    \n",
    "    def peek(self):\n",
    "        return self.container[0]"
   ]
  },
  {
   "cell_type": "markdown",
   "id": "b81e60f4-5f4e-4d7a-bb8d-8f4fc61805da",
   "metadata": {},
   "source": [
    "## 원형 큐"
   ]
  },
  {
   "metadata": {
    "ExecuteTime": {
     "end_time": "2024-04-28T11:39:01.498928Z",
     "start_time": "2024-04-28T11:39:01.495734Z"
    }
   },
   "cell_type": "code",
   "source": "[None for _ in range(10)]",
   "id": "86f6f0e4d91726a7",
   "outputs": [
    {
     "data": {
      "text/plain": [
       "[None, None, None, None, None, None, None, None, None, None]"
      ]
     },
     "execution_count": 5,
     "metadata": {},
     "output_type": "execute_result"
    }
   ],
   "execution_count": 5
  },
  {
   "cell_type": "code",
   "id": "c51ecf66-0b97-4cf7-8d22-c39348be85ab",
   "metadata": {
    "ExecuteTime": {
     "end_time": "2024-04-28T11:39:48.287561Z",
     "start_time": "2024-04-28T11:39:48.279954Z"
    }
   },
   "source": [
    "class CQueue:\n",
    "    MAXSIZE=10\n",
    "    def __init__(self):\n",
    "        self.container=[None for _ in range(CQueue.MAXSIZE)]#None이 10개\n",
    "        self.front=0\n",
    "        self.rear=0\n",
    "\n",
    "    def is_empty(self):\n",
    "        if self.front==self.rear:\n",
    "            return True\n",
    "        return False\n",
    "\n",
    "    def is_full(self):\n",
    "        next=self.__step_forward(self.rear)\n",
    "        if next==self.front:\n",
    "            return True\n",
    "        return False\n",
    "\n",
    "    def enqueue(self, data):\n",
    "        if self.is_full():\n",
    "            raise Exception(\"The queue is full\")\n",
    "        self.container[self.rear]=data\n",
    "        self.rear=self.__step_forward(self.rear)\n",
    "\n",
    "    def dequeue(self):\n",
    "        if self.is_empty():\n",
    "            raise Exception(\"The queue is empty\")\n",
    "        ret=self.container[self.front]\n",
    "        self.front=self.__step_forward(self.front)\n",
    "        return ret\n",
    "\n",
    "    def peek(self):\n",
    "        if self.is_empty():\n",
    "            raise Exception(\"The queue is empty\")\n",
    "        return self.container[self.front]\n",
    "\n",
    "    def __step_forward(self, x):\n",
    "        x+=1\n",
    "        if x >= CQueue.MAXSIZE:\n",
    "            x=0\n",
    "        return x"
   ],
   "outputs": [],
   "execution_count": 8
  },
  {
   "cell_type": "code",
   "id": "ceb04fa9-a906-48ef-8bc7-b57050183d6f",
   "metadata": {
    "ExecuteTime": {
     "end_time": "2024-04-28T12:13:51.670975Z",
     "start_time": "2024-04-28T12:13:51.666110Z"
    }
   },
   "source": [
    "if __name__ ==\"__main__\":\n",
    "    cq=CQueue()\n",
    "\n",
    "    for i in range(8):\n",
    "        cq.enqueue(i)\n",
    "\n",
    "    for i in range(5):\n",
    "        print(cq.dequeue(), end=\"  \")\n",
    "\n",
    "    for i in range(8, 14):\n",
    "        cq.enqueue(i)\n",
    "\n",
    "    while not cq.is_empty():\n",
    "        print(cq.dequeue(), end=\"  \") \n",
    "\n",
    "    print()\n",
    "    for i in range(10):\n",
    "        print(cq.container[i], end=\"  \")"
   ],
   "outputs": [
    {
     "name": "stdout",
     "output_type": "stream",
     "text": [
      "0  1  2  3  4  5  6  7  8  9  10  11  12  13  \n",
      "10  11  12  13  4  5  6  7  8  9  "
     ]
    }
   ],
   "execution_count": 11
  },
  {
   "cell_type": "code",
   "execution_count": 4,
   "id": "b413edcc-49d5-47b1-ac2f-9c9b1b36ff22",
   "metadata": {},
   "outputs": [
    {
     "data": {
      "text/plain": [
       "[0, 1, 2, 3, 4, 5, 6, 7]"
      ]
     },
     "execution_count": 4,
     "metadata": {},
     "output_type": "execute_result"
    }
   ],
   "source": [
    "list(range(8))"
   ]
  }
 ],
 "metadata": {
  "kernelspec": {
   "display_name": "Python 3 (ipykernel)",
   "language": "python",
   "name": "python3"
  },
  "language_info": {
   "codemirror_mode": {
    "name": "ipython",
    "version": 3
   },
   "file_extension": ".py",
   "mimetype": "text/x-python",
   "name": "python",
   "nbconvert_exporter": "python",
   "pygments_lexer": "ipython3",
   "version": "3.9.13"
  }
 },
 "nbformat": 4,
 "nbformat_minor": 5
}
