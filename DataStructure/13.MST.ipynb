{
 "cells": [
  {
   "cell_type": "code",
   "id": "initial_id",
   "metadata": {
    "collapsed": true,
    "ExecuteTime": {
     "end_time": "2024-05-19T09:35:34.005859Z",
     "start_time": "2024-05-19T09:35:33.998563Z"
    }
   },
   "source": [
    "class Graph:\n",
    "    def __init__(self, vertex_num):\n",
    "        self.adj_list=[[] for _ in range(vertex_num)]\n",
    "        self.edge_list=[]\n",
    "\n",
    "        self.vertex_num=vertex_num\n",
    "\n",
    "    def add_edge(self, u, v, weight):\n",
    "        self.adj_list[u].append(v)\n",
    "        self.adj_list[v].append(u)\n",
    "\n",
    "        self.edge_list.append(Edge(u, v, weight))\n",
    "\n",
    "    def MST_kruskal(self):\n",
    "        mst=Graph(self.vertex_num)\n",
    "        ds=DisjointSet(self.vertex_num)\n",
    "        self.edge_list.sort(key=lambda e: e.w)\n",
    "        mst_edge_num=0\n",
    "        edge_idx=0\n",
    "\n",
    "        while mst_edge_num < self.vertex_num-1:\n",
    "            edge=self.edge_list[edge_idx]\n",
    "            if ds.collapsing_find(edge.u) != ds.collapsing_find(edge.v):\n",
    "                mst.add_edge(edge.u, edge.v, edge.w)\n",
    "                ds.weighted_union(ds.collapsing_find(edge.u), ds.collapsing_find(edge.v))\n",
    "                mst_edge_num+=1\n",
    "            edge_idx+=1\n",
    "\n",
    "        return mst\n",
    "\n",
    "    def print_edges(self):\n",
    "        for edge in self.edge_list:\n",
    "            print(\"({}, {}) : {}\".format(edge.u, edge.v, edge.w))"
   ],
   "outputs": [],
   "execution_count": 4
  },
  {
   "metadata": {
    "ExecuteTime": {
     "end_time": "2024-05-19T09:22:15.498321Z",
     "start_time": "2024-05-19T09:22:15.485898Z"
    }
   },
   "cell_type": "code",
   "source": [
    "from disjoint_set import DisjointSet\n",
    "\n",
    "if __name__==\"__main__\":\n",
    "    ds=DisjointSet(5)\n",
    "\n",
    "    # ds.simple_union(1, 2)\n",
    "    # ds.simple_union(4, 2)\n",
    "    # ds.simple_union(3, 0)\n",
    "    # print(ds.parent)\n",
    "\n",
    "    # for i in range(5):\n",
    "    #     print(\"parent[{}] : {}\".format(i, ds.simple_find(i)))\n",
    "    ds.parent[2]=-5\n",
    "    ds.parent[4]=2\n",
    "    ds.parent[0]=4\n",
    "    ds.parent[1]=0\n",
    "    ds.parent[3]=1\n",
    "    print(ds.parent)\n",
    "    print(\"the root is {}\".format(ds.collapsing_find(3)))\n",
    "    print(ds.parent)"
   ],
   "id": "7337f7f3fc2a15b8",
   "outputs": [
    {
     "name": "stdout",
     "output_type": "stream",
     "text": [
      "[4, 0, -5, 1, 2]\n",
      "the root is 2\n",
      "[2, 2, -5, 2, 2]\n"
     ]
    }
   ],
   "execution_count": 2
  },
  {
   "metadata": {
    "ExecuteTime": {
     "end_time": "2024-05-19T09:23:52.612375Z",
     "start_time": "2024-05-19T09:23:52.606540Z"
    }
   },
   "cell_type": "code",
   "source": "[-1 for _ in range(5)]",
   "id": "3513c53889697b6b",
   "outputs": [
    {
     "data": {
      "text/plain": [
       "[-1, -1, -1, -1, -1]"
      ]
     },
     "execution_count": 3,
     "metadata": {},
     "output_type": "execute_result"
    }
   ],
   "execution_count": 3
  },
  {
   "metadata": {
    "ExecuteTime": {
     "end_time": "2024-05-19T09:35:44.619174Z",
     "start_time": "2024-05-19T09:35:44.613219Z"
    }
   },
   "cell_type": "code",
   "source": [
    "from disjoint_set import DisjointSet\n",
    "if __name__==\"__main__\":\n",
    "    g=Graph(6)\n",
    "\n",
    "    g.add_edge(0, 1, 10)\n",
    "    g.add_edge(0, 2, 2)\n",
    "    g.add_edge(0, 3, 8)\n",
    "    g.add_edge(1, 2, 5)\n",
    "    g.add_edge(1, 4, 12)\n",
    "    g.add_edge(2, 3, 7)\n",
    "    g.add_edge(2, 4, 17)\n",
    "    g.add_edge(3, 4, 4)\n",
    "    g.add_edge(3, 5, 14)\n",
    "\n",
    "    mst=g.MST_kruskal()\n",
    "\n",
    "    mst.print_edges()\n",
    "    "
   ],
   "id": "54902c5709a0eb93",
   "outputs": [
    {
     "name": "stdout",
     "output_type": "stream",
     "text": [
      "(0, 2) : 2\n",
      "(3, 4) : 4\n",
      "(1, 2) : 5\n",
      "(2, 3) : 7\n",
      "(3, 5) : 14\n"
     ]
    }
   ],
   "execution_count": 5
  },
  {
   "metadata": {
    "ExecuteTime": {
     "end_time": "2024-05-19T10:47:13.292148Z",
     "start_time": "2024-05-19T10:47:13.286853Z"
    }
   },
   "cell_type": "code",
   "source": [
    "from functools import reduce   # 파이썬 3에서는 써주셔야 해요  \n",
    "reduce(lambda x, y: x + y, range(5))"
   ],
   "id": "1fa1097b011e4e9a",
   "outputs": [
    {
     "data": {
      "text/plain": [
       "10"
      ]
     },
     "execution_count": 7,
     "metadata": {},
     "output_type": "execute_result"
    }
   ],
   "execution_count": 7
  }
 ],
 "metadata": {
  "kernelspec": {
   "display_name": "Python 3",
   "language": "python",
   "name": "python3"
  },
  "language_info": {
   "codemirror_mode": {
    "name": "ipython",
    "version": 2
   },
   "file_extension": ".py",
   "mimetype": "text/x-python",
   "name": "python",
   "nbconvert_exporter": "python",
   "pygments_lexer": "ipython2",
   "version": "2.7.6"
  }
 },
 "nbformat": 4,
 "nbformat_minor": 5
}
