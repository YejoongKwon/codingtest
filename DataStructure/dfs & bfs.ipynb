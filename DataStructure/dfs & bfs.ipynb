{
 "cells": [
  {
   "cell_type": "markdown",
   "id": "de733b67-6e60-42c5-9e64-ee5cb00b1e09",
   "metadata": {},
   "source": [
    "map(int,input().split())\n",
    "\n",
    "dfs,bfs 문제를 풀 땐 visited 배열을 필요로 함 : 어떤 지점을 이미 방문했다 / 안했다 기록\n",
    "\n",
    "\n",
    "#bfs : empty queue 가 되면 종료"
   ]
  },
  {
   "cell_type": "markdown",
   "id": "21ce877c-d0e8-4a3c-9dca-5ce16845b200",
   "metadata": {},
   "source": [
    "N=4 #(정점 수)\\\n",
    "M=5 #(간선 수)\\\n",
    "V=1 "
   ]
  },
  {
   "cell_type": "code",
   "execution_count": 7,
   "id": "f757b688-cab0-4949-a1b2-8b450967c8d8",
   "metadata": {},
   "source": [
    "#https://www.youtube.com/watch?v=d3R1s_OmwAk&t=773s\n",
    "\n",
    "import sys\n",
    "# 0. 입력 및 초기화\n",
    "\n",
    "#dfs : stack (LIFO 활용)\n",
    "def dfs(idx) :\n",
    "    global visited\n",
    "    visited[idx] = True # 가장 먼저 들어온 V인 1번 노드를 이미 방문 했다\n",
    "    print(idx, end = ' ') #1을 출력함\n",
    "\n",
    "    #next라는 노드가 방문된적 없고  \n",
    "        #&내 현재 인덱스에서 방문할 수 있는 곳이라면\n",
    "            #-> 방문함\n",
    "    for next in range(1, N+1):\n",
    "        if not visited[next] and graph[idx][next]:\n",
    "            dfs(next)\n",
    "#방문할 수 있는노드는 모두 방문해서 dfs(idx) 로 호출되고 -> 출력되고.\n",
    "\n",
    "#bfs : queue (FIFO 활용)\n",
    "def bfs() :\n",
    "    global q, visited\n",
    "    while q:\n",
    "        cur = q.pop(0)#q의 0 번(최상단) idx 뽑아와서 cur 에 담아줌\n",
    "        visited[cur] = True\n",
    "        print(cur, end = ' ')\n",
    "        for next in range(1, N+1):\n",
    "            if not visited[next] and graph[cur][next]:\n",
    "                visited[next] = True\n",
    "                #방문 했다는 것은 큐의 맨 끝에 넣겠다는 것과 같음\n",
    "                q.append(next)\n",
    "        \n",
    "N, M, V = 4,5,1\n",
    "\n",
    "\n",
    "#(n+1) (n+1) all false 인 2차원행렬\n",
    "graph = [[False]*(N+1) for _ in range(N + 1)]\n",
    "visited = [False] * (N+1) #1차원 배열임\n",
    "\n",
    "# 1. graph 정보 입력 : (a,b) 입력 시 matrix의 False 를 True로 변경\n",
    "edges = [(1,2),(1,3),(1,4),(2,4),(3,4)]\n",
    "for a,b in edges:\n",
    "    graph[a][b] = True\n",
    "    graph[b][a] = True\n",
    "\n",
    "# 2. dfs \n",
    "dfs(V)\n",
    "print() # 줄바꿈\n",
    "\n",
    "# 3. bfs\n",
    "# dfs 하면서 채워졌던 visited 배열을 초기화 함\n",
    "visited = [False] * (N + 1)\n",
    "q = [V]\n",
    "# visited[V] = True\n",
    "bfs()"
   ],
   "outputs": []
  },
  {
   "cell_type": "code",
   "execution_count": 2,
   "id": "550bcbff-5e6d-4f94-9027-dab04b6b4443",
   "metadata": {},
   "source": [
    "[False] * (4 + 1)"
   ],
   "outputs": []
  },
  {
   "cell_type": "code",
   "execution_count": 6,
   "id": "178e9db1-ba5c-4a0f-ba1d-49a1abd09032",
   "metadata": {},
   "source": [
    "N, M, V = 4,5,1\n",
    "\n",
    "graph = [[False]*(N+1) for _ in range(N + 1)]\n",
    "visited = [False] * (N+1) #1차원 배열임\n",
    "\n",
    "# 1. graph 정보 입력 : (a,b) 입력 시 matrix의 False 를 True로 변경\n",
    "edges = [(1,2),(1,3),(1,4),(2,4),(3,4)]\n",
    "for a,b in edges:\n",
    "    graph[a][b] = True\n",
    "    graph[b][a] = True\n"
   ],
   "outputs": []
  },
  {
   "cell_type": "code",
   "execution_count": 7,
   "id": "581b6818-205b-45ef-b4e2-56964cbe2b75",
   "metadata": {},
   "source": [
    "graph"
   ],
   "outputs": []
  }
 ],
 "metadata": {
  "kernelspec": {
   "display_name": "Python 3 (ipykernel)",
   "language": "python",
   "name": "python3"
  },
  "language_info": {
   "codemirror_mode": {
    "name": "ipython",
    "version": 3
   },
   "file_extension": ".py",
   "mimetype": "text/x-python",
   "name": "python",
   "nbconvert_exporter": "python",
   "pygments_lexer": "ipython3",
   "version": "3.9.13"
  }
 },
 "nbformat": 4,
 "nbformat_minor": 5
}
