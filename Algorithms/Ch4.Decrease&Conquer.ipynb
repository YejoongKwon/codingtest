{
 "cells": [
  {
   "cell_type": "code",
   "id": "initial_id",
   "metadata": {
    "collapsed": true,
    "ExecuteTime": {
     "end_time": "2024-05-22T23:45:43.136573Z",
     "start_time": "2024-05-22T23:45:43.130046Z"
    }
   },
   "source": [
    "#삽입정렬\n",
    "algorithm = \"ALGORITHM\"\n",
    "def insert_sort(string):\n",
    "    string = list(string)\n",
    "    n = len(string)\n",
    "\n",
    "    for i in range(n-1):\n",
    "        cur = string[i+1]\n",
    "        min = string[i]\n",
    "        if min > cur:\n",
    "            string[i] = cur\n",
    "            string[i+1] = min\n",
    "            return insert_sort(cur)\n",
    "    return string\n",
    "                \n",
    "print(insert_sort(algorithm))"
   ],
   "execution_count": 12,
   "outputs": []
  },
  {
   "metadata": {
    "ExecuteTime": {
     "end_time": "2024-05-22T23:54:03.719168Z",
     "start_time": "2024-05-22T23:54:03.713435Z"
    }
   },
   "cell_type": "code",
   "source": [
    "def insert_sort(A):\n",
    "    n = len(A)\n",
    "    for i in range(1, n):\n",
    "        cur = A[i]#cur = 3\n",
    "        j = i-1# j = 0\n",
    "        while j >= 0 and A[j] > cur:\n",
    "            A[j+1] = A[j]    #A[0]인 5를 A[1]에 담아줌    (A[1] =5)\n",
    "            j = j-1   # j = 0\n",
    "        A[j+1] = cur\n",
    "    return A\n",
    "\n",
    "data = [5,3,8,4,9,1,6,2,7]\n",
    "print(insert_sort(data))"
   ],
   "id": "17398b1cc3ce065",
   "execution_count": 13,
   "outputs": []
  },
  {
   "metadata": {
    "ExecuteTime": {
     "end_time": "2024-05-23T09:55:03.561585Z",
     "start_time": "2024-05-23T09:55:03.554548Z"
    }
   },
   "cell_type": "code",
   "source": [
    "def insert_sort(A):\n",
    "    for i in range(1,len(A)):\n",
    "        j = i-1\n",
    "        cur = A[i]\n",
    "        while j >= 0 and cur < A[j]:\n",
    "            A[j+1] = A[j]\n",
    "            j = j-1\n",
    "        A[j+1] = cur\n",
    "    return A\n",
    "\n",
    "data = [5,3,8,4,9,1,6,2,7]\n",
    "print(insert_sort(data))"
   ],
   "id": "90b18e90f6f03745",
   "execution_count": 27,
   "outputs": []
  },
  {
   "metadata": {
    "ExecuteTime": {
     "end_time": "2024-05-23T09:56:46.999564Z",
     "start_time": "2024-05-23T09:56:46.994631Z"
    }
   },
   "cell_type": "code",
   "source": [
    "data = [5,3,8,4,9,1,6,2,7]\n",
    "\n",
    "def insertion_sort(A):\n",
    "    for i in range(1,len(A)):\n",
    "        j = i -1\n",
    "        cur = A[i]\n",
    "        while j>=0 and cur<A[j]:\n",
    "            A[j+1] = A[j]\n",
    "            j = j -1\n",
    "        A[j+1]=cur\n",
    "    return A\n",
    "\n",
    "print(insertion_sort(data))"
   ],
   "id": "f5bb155b494ba313",
   "execution_count": 28,
   "outputs": []
  },
  {
   "metadata": {
    "ExecuteTime": {
     "end_time": "2024-05-23T11:12:18.864529Z",
     "start_time": "2024-05-23T11:12:18.860085Z"
    }
   },
   "cell_type": "code",
   "source": [
    "mygraph = {\"A\":{\"C\",\"D\"},\n",
    "           \"B\":{\"D\",\"E\"},\n",
    "           \"C\":{\"D\",\"F\"},\n",
    "           \"D\":{\"F\"},\n",
    "           \"E\":{\"F\"},\n",
    "           \"F\":{}}"
   ],
   "id": "9f5e3660e0f11084",
   "execution_count": 62,
   "outputs": []
  },
  {
   "metadata": {
    "ExecuteTime": {
     "end_time": "2024-05-23T11:15:02.952455Z",
     "start_time": "2024-05-23T11:15:02.945350Z"
    }
   },
   "cell_type": "code",
   "source": [
    "# 위상 정렬\n",
    "def topological_sort(graph):\n",
    "# {정점: 진입차수}저장 위한 공백 딕셔너리   inDeg\n",
    "    inDeg = {}\n",
    "# 진입차수가 0 인 정점 리스트            vlist\n",
    "    for v in graph:\n",
    "        inDeg[v] = 0\n",
    "# inDeg: 그래프의 모든 정점에 대해 0으로 초기화 ->\n",
    "    for v in graph:\n",
    "        for u in graph[v]:\n",
    "            inDeg[u] +=1\n",
    "        \n",
    "    vlist = []\n",
    "# 모든 정점 v에 대해\n",
    "    for v in graph:\n",
    "    # inDeg의 진입차수가 0이면 vlist에 추가\n",
    "        if inDeg[v] ==0:\n",
    "            vlist.append(v)\n",
    "\n",
    "# 리스트가 공백이 아닐 때까지, 진입차수가 0인 정점을 하나씩 꺼냄 \n",
    "    while vlist:\n",
    "        v =vlist.pop()\n",
    "        print(v)\n",
    "        for u in graph[v]:\n",
    "            inDeg[u] -= 1\n",
    "            if inDeg[u]==0:\n",
    "                vlist.append(u)\n",
    "    return vliste\n",
    "    # return inDeg\n",
    "#화면 출력\n",
    "    #연결된 정점의 진입차수를 감소시킴\n",
    "    #진입차수 감소시키고\n",
    "    #진입차수가 0된 m vlist에 추가"
   ],
   "id": "75fc70ae016e01a4",
   "execution_count": 74,
   "outputs": []
  },
  {
   "metadata": {
    "ExecuteTime": {
     "end_time": "2024-05-23T11:15:05.604366Z",
     "start_time": "2024-05-23T11:15:05.596667Z"
    }
   },
   "cell_type": "code",
   "source": "print(topological_sort(mygraph))",
   "id": "e694fb409bd4a623",
   "execution_count": 75,
   "outputs": []
  },
  {
   "metadata": {
    "ExecuteTime": {
     "end_time": "2024-05-23T11:45:16.282319Z",
     "start_time": "2024-05-23T11:45:16.275154Z"
    }
   },
   "cell_type": "code",
   "source": [
    "def binary_search(A,key,low,high):\n",
    "    #항목들이 남아 있으면(종료 조건)\n",
    "    if (low<=high):\n",
    "        #정수 나눗셈//:몫을 반환\n",
    "        mid = (low+high)//2\n",
    "        #탐색 성공하면 인덱스 반환\n",
    "        if key == A[mid]:\n",
    "            return mid\n",
    "        #elif : 왼쪽 부분 리스트 탐색\n",
    "        elif key < A[mid]:\n",
    "            return binary_search(A,key,low,mid-1)\n",
    "        #else : 오른쪽 부분 리스트 탐색\n",
    "        else:\n",
    "            return binary_search(A,key,mid+1,high)\n",
    "    #탐색 실패 : -1 반환\n",
    "    return -1"
   ],
   "id": "ac393673cc697b9e",
   "execution_count": 76,
   "outputs": []
  },
  {
   "metadata": {
    "ExecuteTime": {
     "end_time": "2024-05-23T11:48:59.843745Z",
     "start_time": "2024-05-23T11:48:59.836283Z"
    }
   },
   "cell_type": "code",
   "source": [
    "list = [1,2,4,5,7,63,66]\n",
    "key = 7\n",
    "binary_search(list,key,0,len(list))"
   ],
   "id": "12f6bdc182eb068d",
   "execution_count": 79,
   "outputs": []
  },
  {
   "metadata": {
    "ExecuteTime": {
     "end_time": "2024-05-23T11:51:18.905172Z",
     "start_time": "2024-05-23T11:51:18.901584Z"
    }
   },
   "cell_type": "code",
   "source": [
    "#while 반복구조 활용\n",
    "def binary_search(A,key,low,high):\n",
    "    #항목들이 남아 있으면(종료 조건)\n",
    "    while (low<=high):\n",
    "        mid = (high+low)//2\n",
    "        if key == A[mid]:\n",
    "            return mid\n",
    "        elif key < A[mid]:\n",
    "            high= mid-1\n",
    "        else:\n",
    "            low = mid+1\n",
    "    return -1"
   ],
   "id": "2904308978e683cd",
   "execution_count": 80,
   "outputs": []
  },
  {
   "metadata": {
    "ExecuteTime": {
     "end_time": "2024-05-23T11:51:25.225259Z",
     "start_time": "2024-05-23T11:51:25.220454Z"
    }
   },
   "cell_type": "code",
   "source": "binary_search(list,key,0,len(list))",
   "id": "ff0c1d0c8dc12380",
   "execution_count": 81,
   "outputs": []
  },
  {
   "metadata": {
    "ExecuteTime": {
     "end_time": "2024-05-24T13:18:24.454921Z",
     "start_time": "2024-05-24T13:18:24.450894Z"
    }
   },
   "cell_type": "code",
   "source": "",
   "id": "28f589ae7ee67e24",
   "execution_count": 97,
   "outputs": []
  },
  {
   "metadata": {
    "ExecuteTime": {
     "end_time": "2024-05-24T13:25:14.798934Z",
     "start_time": "2024-05-24T13:25:14.793937Z"
    }
   },
   "cell_type": "code",
   "source": [
    "# 분할 알고리즘 : partition()\n",
    "def partition(A, left, right):\n",
    "    low = left +1\n",
    "    high = right\n",
    "    pivot = A[left]\n",
    "    #low와 high가 역전 되지 않는 한 반복\n",
    "    while low <= high:\n",
    "        while low <= right and A[low] < pivot:\n",
    "            low +=1\n",
    "        while high >= left and A[high] > pivot:\n",
    "            high -= 1\n",
    "        if low< high:\n",
    "            A[low], A[high] = A[high], A[low]\n",
    "    # 마지막으로 high와 피벗 간 교환\n",
    "    A[left], A[high] = A[high], A[left]\n",
    "    #피벗 위치 반환\n",
    "    return high\n",
    "\n",
    "#pos = A에서 피벗의 인덱스\n",
    "# 축소 정복 기법 이용, k번째 작은 수 찾기\n",
    "def quick_select(A, left, right, k):\n",
    "    pos = partition(A,left,right)\n",
    "    #case1 : key==pos+1\n",
    "    if pos+1 == left+k:\n",
    "        return A[pos]\n",
    "    #case2 : key <pos+1 : 왼쪽 탐색\n",
    "    elif pos+1 > left+k:\n",
    "        return quick_select(A,left,pos-1, k)\n",
    "    #case3 : key >pos+1 : 오른쪽에서 탐색하되 이제 key가  key - (pos+1-eft) 찾기로 갱신\n",
    "    else:\n",
    "        return quick_select(A, pos + 1, right, k - (pos + 1 - left))"
   ],
   "id": "fb572070decfb6ed",
   "execution_count": 104,
   "outputs": []
  },
  {
   "metadata": {
    "ExecuteTime": {
     "end_time": "2024-05-24T13:25:16.529763Z",
     "start_time": "2024-05-24T13:25:16.524430Z"
    }
   },
   "cell_type": "code",
   "source": [
    "array = [12,3,5,7,4,19,26,23,15]\n",
    "print(\"[축소정복]3번째 작은 수: \",quick_select(array,0,len(array)-1, 3))"
   ],
   "id": "ab329d81c69ef507",
   "execution_count": 105,
   "outputs": []
  },
  {
   "metadata": {},
   "cell_type": "code",
   "execution_count": null,
   "source": [
    "# 위조 동전 문제(fake coin prob)\n",
    "# 동일하게 생긴 n개의 동전과 양팔 저울이 주어졌다.\n",
    "# 동전들 중에서 하나는 가짜 동전이고 진짜 동전보다 약간 가볍다.\n",
    "# 당연히 양팔 저울은 동전의 무게를 직접 측정할수 없다.\n",
    "# 양쪽 무게가 같은지 또는 어느 쪽이 더 무거운지 만을 알 수 있을 뿐\n",
    "# 이 저울 최소한 횟수 사용하여 어느 동전이 가짜 동전인지 찾아라."
   ],
   "id": "eff2e5c970e58b89",
   "outputs": []
  },
  {
   "metadata": {
    "ExecuteTime": {
     "end_time": "2024-05-24T14:40:38.579398Z",
     "start_time": "2024-05-24T14:40:38.575395Z"
    }
   },
   "cell_type": "code",
   "source": "listA= [10,3,4, 2,5,7,11]",
   "id": "9637d36874ac099",
   "execution_count": 122,
   "outputs": []
  },
  {
   "metadata": {
    "ExecuteTime": {
     "end_time": "2024-05-24T14:36:58.095641Z",
     "start_time": "2024-05-24T14:36:58.091385Z"
    }
   },
   "cell_type": "code",
   "source": [
    "# 1. 전역변수 이용\n",
    "arr = [3,4,5,1,6,9]\n",
    "total = 0\n",
    "def recursive(num):\n",
    "    global total\n",
    "    if num == len(arr):\n",
    "        return total\n",
    "    total += arr[num]\n",
    "    recursive(num+1)\n",
    "recursive(0)\n",
    "print(total) # 28"
   ],
   "id": "6142176b5b1df3c0",
   "execution_count": 116,
   "outputs": []
  },
  {
   "metadata": {
    "ExecuteTime": {
     "end_time": "2024-05-24T14:43:44.482239Z",
     "start_time": "2024-05-24T14:43:44.476708Z"
    }
   },
   "cell_type": "code",
   "source": [
    "# 연습문제1.  삽입 정렬을 순환구조(하향식)으로 기술하기\n",
    "def recursive_insertion_sort(arr):\n",
    "    if len(arr) <= 1:\n",
    "        return arr\n",
    "\n",
    "    # 배열의 마지막 요소를 제외한 나머지를 재귀적으로 정렬\n",
    "    sorted_arr = recursive_insertion_sort(arr[:-1])\n",
    "\n",
    "    # 마지막 요소를 삽입 정렬된 배열에 삽입\n",
    "    last_element = arr[-1]\n",
    "    index = len(sorted_arr) - 1\n",
    "\n",
    "    while index >= 0 and sorted_arr[index] > last_element:\n",
    "        index -= 1\n",
    "\n",
    "    sorted_arr.insert(index + 1, last_element)\n",
    "\n",
    "    return sorted_arr\n",
    "\n",
    "# 예제 배열\n",
    "arr = [5, 2, 4, 6, 1, 3]\n",
    "\n",
    "# 정렬된 배열 출력\n",
    "print(recursive_insertion_sort(arr))"
   ],
   "id": "ea932a023abc3532",
   "execution_count": 132,
   "outputs": []
  },
  {
   "metadata": {},
   "cell_type": "code",
   "execution_count": null,
   "source": "",
   "id": "4b1cde36816d8e13",
   "outputs": []
  },
  {
   "metadata": {},
   "cell_type": "markdown",
   "source": "",
   "id": "75291615571d759"
  },
  {
   "metadata": {},
   "cell_type": "markdown",
   "source": "# 문제풀이",
   "id": "f1b4cb0489f9428b"
  },
  {
   "metadata": {},
   "cell_type": "code",
   "execution_count": null,
   "source": "# 1. 삽입정렬을 순환구조로\n",
   "id": "c5964ae318ab5c79",
   "outputs": []
  }
 ],
 "metadata": {
  "kernelspec": {
   "display_name": "Python 3",
   "language": "python",
   "name": "python3"
  },
  "language_info": {
   "codemirror_mode": {
    "name": "ipython",
    "version": 2
   },
   "file_extension": ".py",
   "mimetype": "text/x-python",
   "name": "python",
   "nbconvert_exporter": "python",
   "pygments_lexer": "ipython2",
   "version": "2.7.6"
  }
 },
 "nbformat": 4,
 "nbformat_minor": 5
}
