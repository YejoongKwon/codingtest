{
 "cells": [
  {
   "cell_type": "code",
   "id": "initial_id",
   "metadata": {
    "collapsed": true
   },
   "source": [
    "def string_matching(T, P):\n",
    "    n = len(T)\n",
    "    m = len(P)\n",
    "    cnt = 0\n",
    "    \n",
    "    for i in range(n-m+1):\n",
    "        j = 0\n",
    "        \n",
    "        while j<m and P[j] == T[i+j]:\n",
    "            j = j+1\n",
    "            \n",
    "        if j == m:\n",
    "            cnt += 1\n",
    "            \n",
    "    if cnt >0:\n",
    "        return 1,cnt\n",
    "    else: return -1, 0"
   ],
   "outputs": [],
   "execution_count": null
  },
  {
   "metadata": {},
   "cell_type": "code",
   "source": [
    "x=10\n",
    "print(~x)"
   ],
   "id": "e5585a1df5c1466",
   "outputs": [],
   "execution_count": null
  },
  {
   "metadata": {},
   "cell_type": "code",
   "source": [
    "T = 'HELLOLO LOWORLD'\n",
    "P = 'LO'\n",
    "print( P, 'in', T, '-->', string_matching(T, P))"
   ],
   "id": "24a0c74022489ba6",
   "outputs": [],
   "execution_count": null
  },
  {
   "metadata": {},
   "cell_type": "code",
   "source": [
    "p=[(2,3),(12,30),(40,50),(5,1),(12,10),(3,4)]\n",
    "len(p)\n",
    "print(closest_pair(p))"
   ],
   "id": "d474d41e68b457f6",
   "outputs": [],
   "execution_count": null
  },
  {
   "metadata": {},
   "cell_type": "code",
   "source": [
    "import math\n",
    "def distance(p1,p2):\n",
    "    return math.sqrt((p1[0]-p2[0])**2+(p1[1]-p2[1])**2)\n",
    "\n",
    "def closest_pair(p):\n",
    "    n = len(p)\n",
    "    mindist = float(\"inf\")\n",
    "    for i in range(n-1):\n",
    "        for j in range(i+1,n):\n",
    "            dist = distance(p[i],p[j])\n",
    "            if dist < mindist:\n",
    "                mindist = dist\n",
    "                cur1, cur2 = i,j\n",
    "    return mindist, cur1, cur2\n"
   ],
   "id": "37fc608165bf2ff8",
   "outputs": [],
   "execution_count": null
  },
  {
   "metadata": {},
   "cell_type": "code",
   "source": [
    "mygraph = {\"A\":{\"B\",\"C\"},\n",
    "           \"B\":{\"A\",\"D\"},\n",
    "           \"C\":{\"A\",\"D\",\"E\"},\n",
    "           \"D\":{\"B\",\"C\",\"F\"},\n",
    "           \"E\":{\"H\",\"C\",\"G\"},\n",
    "           \"F\":{\"D\"},\n",
    "           \"G\":{\"E\",\"H\"},\n",
    "           \"H\":{\"E\",\"G\"}}"
   ],
   "id": "104b1a95b2f4a8c7",
   "outputs": [],
   "execution_count": null
  },
  {
   "metadata": {},
   "cell_type": "code",
   "source": "mygraph[\"F\"]-set({\"A\",\"B\",\"D\",\"C\",\"E\",\"G\",\"H\",\"F\"})",
   "id": "a04adae9fb0a3697",
   "outputs": [],
   "execution_count": null
  },
  {
   "metadata": {},
   "cell_type": "code",
   "source": [
    "def dfs(graph,start,visited):\n",
    "    if start not in visited:\n",
    "        visited.add(start)\n",
    "        print(start,end='')\n",
    "        nbr = graph[start]-visited\n",
    "        for v in nbr:\n",
    "            dfs(graph, v, visited)# dfs \"B\"> dfs\"D\" >  dfs\"C\"> dfs\"E\" >dfs\"G\" > dfs\"H\" > & dfs\"F\" # dfs \"C\">dfs"
   ],
   "id": "a9ecb4c9bb6a4f1d",
   "outputs": [],
   "execution_count": null
  },
  {
   "metadata": {},
   "cell_type": "code",
   "source": [
    "print('DFS: ', end='')\n",
    "dfs(mygraph,\"A\",set())\n",
    "print()"
   ],
   "id": "4edb5ea5882b316b",
   "outputs": [],
   "execution_count": null
  },
  {
   "metadata": {},
   "cell_type": "code",
   "source": [
    "import queue\n",
    "def bfs(graph,start):\n",
    "    visited = {start}\n",
    "    que = queue.Queue()\n",
    "    que.put(start)\n",
    "    while not que.empty():\n",
    "        v=que.get()\n",
    "        print(v,end='')\n",
    "        nbr = graph[v]-visited\n",
    "        for u in nbr:\n",
    "            visited.add(u)\n",
    "            que.put(u)\n",
    "bfs(mygraph,\"A\")"
   ],
   "id": "313ef1ff02645c72",
   "outputs": [],
   "execution_count": null
  },
  {
   "metadata": {},
   "cell_type": "code",
   "source": [
    "algorithm = \"ALGORITHM\"\n",
    "\n",
    "def select_sort(string):\n",
    "    string = list(string)  # Convert the string to a list of characters\n",
    "    n = len(string)\n",
    "    for i in range(n-1):  # Loop over each element except the last one\n",
    "        maximum = i\n",
    "        for j in range(i+1, n):  # Find the index of the maximum element in the unsorted part\n",
    "            if string[maximum] < string[j]:\n",
    "                maximum = j\n",
    "        # Swap the found maximum element with the first element of the unsorted part\n",
    "        string[i], string[maximum] = string[maximum], string[i]\n",
    "    return string\n",
    "\n",
    "print(select_sort(algorithm))"
   ],
   "id": "a61a4ebd2b3e6109",
   "outputs": [],
   "execution_count": null
  },
  {
   "metadata": {},
   "cell_type": "code",
   "source": [
    "# 문제1\n",
    "algorithm = \"ALGORITHM\"\n",
    "def select_sort(string):\n",
    "    string = list(string)\n",
    "    n = len(string)\n",
    "    for i in range(n-1):\n",
    "        lst = i\n",
    "        for j in range(i+1,n):\n",
    "            if string[lst] > string[j]:\n",
    "                lst = j\n",
    "        string[lst], string[i] = string[i], string[lst]\n",
    "    return string\n",
    "print(select_sort(algorithm))"
   ],
   "id": "5b92e5a6263fad04",
   "outputs": [],
   "execution_count": null
  },
  {
   "metadata": {},
   "cell_type": "code",
   "source": "",
   "id": "ad6d37e3dd3b5be0",
   "outputs": [],
   "execution_count": null
  },
  {
   "metadata": {},
   "cell_type": "markdown",
   "source": "# binary search",
   "id": "ce2a775b848a17b"
  },
  {
   "metadata": {},
   "cell_type": "code",
   "source": "",
   "id": "a3e86c190bcbb3e9",
   "outputs": [],
   "execution_count": null
  },
  {
   "metadata": {},
   "cell_type": "code",
   "source": "",
   "id": "5ca25a8910b7084c",
   "outputs": [],
   "execution_count": null
  },
  {
   "metadata": {},
   "cell_type": "code",
   "source": "arr = [1, 3, 5, 7, 9, 11]",
   "id": "413a6a82d0334f7a",
   "outputs": [],
   "execution_count": null
  },
  {
   "metadata": {},
   "cell_type": "code",
   "source": [
    "def binary_search(arr, key):\n",
    "    low = 0\n",
    "    high = len(arr)-1\n",
    "    while low <= high:\n",
    "        mid = low + (high - low)//2\n",
    "        if arr[mid] == key:\n",
    "            return mid\n",
    "        elif arr[mid] < key:\n",
    "            low = mid + 1\n",
    "        else:\n",
    "            high = mid -1\n",
    "    return -1"
   ],
   "id": "59183c58c1cca562",
   "outputs": [],
   "execution_count": null
  },
  {
   "metadata": {},
   "cell_type": "code",
   "source": "binary_search(arr, 9)",
   "id": "c9975f7964a1e813",
   "outputs": [],
   "execution_count": null
  },
  {
   "metadata": {},
   "cell_type": "code",
   "source": [
    "def binary_search_inner(arr, low, high, key):\n",
    "    \n",
    "    if low > high:\n",
    "        return -1\n",
    "    \n",
    "    else:\n",
    "        mid = low + (high - low)//2\n",
    "        if arr[mid] == key:\n",
    "            return mid\n",
    "        elif arr[mid] < key:\n",
    "            return binary_search_inner(arr, low+1, high, key)\n",
    "        else:\n",
    "            return binary_search_inner(arr, high-1, high, key)"
   ],
   "id": "477be96f03e0d35a",
   "outputs": [],
   "execution_count": null
  },
  {
   "metadata": {},
   "cell_type": "code",
   "source": "binary_search(arr, 0, len(arr)-1, 9)",
   "id": "52320514cba7259e",
   "outputs": [],
   "execution_count": null
  },
  {
   "metadata": {},
   "cell_type": "code",
   "source": [
    "def binary_search_ver2(arr, key, low=0, high=None):\n",
    "    if high is None:\n",
    "        high = len(arr) - 1\n",
    "    mid = low +(high-low)//2\n",
    "\n",
    "    if low > high:\n",
    "        return -1\n",
    "\n",
    "    else:\n",
    "        if arr[mid] == key:\n",
    "            return mid\n",
    "        elif arr[mid] < key:\n",
    "            return binary_search_ver2(arr, key, low+1, high)\n",
    "        else:\n",
    "            return binary_search_ver2(arr, key, low, high-1)\n"
   ],
   "id": "71988ac133b541dd",
   "outputs": [],
   "execution_count": null
  },
  {
   "metadata": {},
   "cell_type": "code",
   "source": "binary_search_ver2(arr, 1)",
   "id": "2ba9325702cff388",
   "outputs": [],
   "execution_count": null
  },
  {
   "metadata": {
    "ExecuteTime": {
     "end_time": "2025-08-06T06:27:31.815405Z",
     "start_time": "2025-08-06T06:27:31.809280Z"
    }
   },
   "cell_type": "code",
   "source": [
    "def bst(array, key):\n",
    "    # array sort 구현(버블정렬)\n",
    "    for i in range(len(array)):\n",
    "        for j in range(0,len(array)-i-1):\n",
    "            if array[j] > array[j+1]:\n",
    "                temp = array[j]\n",
    "                array[j]= array[j+1]\n",
    "                array[j+1]= temp\n",
    "    new_arr = array\n",
    "    print(new_arr)\n",
    "\n",
    "    low = 0\n",
    "    high = len(array)-1\n",
    "    \n",
    "    while low<=high:\n",
    "        mid = low+(high-low)//2\n",
    "        if new_arr[mid]==key:\n",
    "            return mid\n",
    "        elif new_arr[mid]<key:\n",
    "            low = mid+1\n",
    "        else: high = mid-1\n",
    "    return -1\n"
   ],
   "id": "47d986ac457a9023",
   "outputs": [],
   "execution_count": 19
  },
  {
   "metadata": {
    "ExecuteTime": {
     "end_time": "2025-08-06T06:27:37.837554Z",
     "start_time": "2025-08-06T06:27:37.834140Z"
    }
   },
   "cell_type": "code",
   "source": [
    "data = [11,25,6,1,9]\n",
    "print(bst(data, 9))"
   ],
   "id": "b1158f4f1ff97cf",
   "outputs": [
    {
     "name": "stdout",
     "output_type": "stream",
     "text": [
      "[1, 6, 9, 11, 25]\n",
      "2\n"
     ]
    }
   ],
   "execution_count": 21
  }
 ],
 "metadata": {
  "kernelspec": {
   "display_name": "Python 3",
   "language": "python",
   "name": "python3"
  },
  "language_info": {
   "codemirror_mode": {
    "name": "ipython",
    "version": 2
   },
   "file_extension": ".py",
   "mimetype": "text/x-python",
   "name": "python",
   "nbconvert_exporter": "python",
   "pygments_lexer": "ipython2",
   "version": "2.7.6"
  }
 },
 "nbformat": 4,
 "nbformat_minor": 5
}
