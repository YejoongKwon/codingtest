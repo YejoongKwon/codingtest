{
 "cells": [
  {
   "metadata": {},
   "cell_type": "markdown",
   "source": "# 브루트포스 문자열 매칭 알고리즘",
   "id": "1facc840d546731b"
  },
  {
   "metadata": {},
   "cell_type": "code",
   "source": [
    "from brute_force import string_matching\n",
    "T = 'HELLOLO LOWORLD LO'\n",
    "P = 'LO'\n",
    "string_matching(T, P)"
   ],
   "id": "579331b77ec1a8b2",
   "outputs": [],
   "execution_count": null
  },
  {
   "metadata": {},
   "cell_type": "markdown",
   "source": [
    "# 최근접 점의 쌍 찾기(Closest Pair of Points)\n",
    "문제: 2차원 평면 위에 n개의 점이 주어진다. 이 중 두 점 사이의 거리가 가장 가까운 두 점을 찾아, 그 거리와 점의 인덱스를 구하라.\n"
   ],
   "id": "a558a959ec9a7ba2"
  },
  {
   "metadata": {},
   "cell_type": "code",
   "source": [
    "from brute_force import closest_pair\n",
    "p=[(2,3),(12,30),(40,50),(5,1),(12,10),(3,4)]\n",
    "closest_pair(p)"
   ],
   "id": "3f66f4ef16f9842f",
   "outputs": [],
   "execution_count": null
  },
  {
   "metadata": {},
   "cell_type": "markdown",
   "source": "# 깊이우선탐색(DFS) -stack, 너비우선탐색(BFS) -q",
   "id": "4c8976e74d596db0"
  },
  {
   "metadata": {},
   "cell_type": "code",
   "source": [
    "mygraph = {\"A\":{\"B\",\"C\"},\n",
    "           \"B\":{\"A\",\"D\"},\n",
    "           \"C\":{\"A\",\"D\",\"E\"},\n",
    "           \"D\":{\"B\",\"C\",\"F\"},\n",
    "           \"E\":{\"H\",\"C\",\"G\"},\n",
    "           \"F\":{\"D\"},\n",
    "           \"G\":{\"E\",\"H\"},\n",
    "           \"H\":{\"E\",\"G\"}}"
   ],
   "id": "383a9b8bd24d811b",
   "outputs": [],
   "execution_count": null
  },
  {
   "metadata": {},
   "cell_type": "code",
   "source": [
    "from brute_force import dfs_stack, bfs_queue\n",
    "\n",
    "dfs_stack(mygraph, 'B')\n",
    "\n",
    "bfs_queue(mygraph, 'B')"
   ],
   "id": "104b1a95b2f4a8c7",
   "outputs": [],
   "execution_count": null
  },
  {
   "metadata": {},
   "cell_type": "markdown",
   "source": "# 정렬",
   "id": "826d2fce2d158acb"
  },
  {
   "metadata": {
    "ExecuteTime": {
     "end_time": "2025-09-09T11:19:18.519398Z",
     "start_time": "2025-09-09T11:19:18.511837Z"
    }
   },
   "cell_type": "code",
   "source": [
    "from brute_force import select_sort\n",
    "\n",
    "algorithm = \"ALGORITHM\"\n",
    "select_sort(algorithm)"
   ],
   "id": "583d272d9ce6038b",
   "outputs": [
    {
     "data": {
      "text/plain": [
       "['T', 'R', 'O', 'M', 'L', 'I', 'H', 'G', 'A']"
      ]
     },
     "execution_count": 1,
     "metadata": {},
     "output_type": "execute_result"
    }
   ],
   "execution_count": 1
  },
  {
   "metadata": {},
   "cell_type": "markdown",
   "source": "# binary search",
   "id": "ce2a775b848a17b"
  },
  {
   "metadata": {},
   "cell_type": "code",
   "source": "arr = [1, 3, 5, 7, 9, 11]",
   "id": "413a6a82d0334f7a",
   "outputs": [],
   "execution_count": null
  },
  {
   "metadata": {},
   "cell_type": "code",
   "source": [
    "def binary_search(arr, key):\n",
    "    low = 0\n",
    "    high = len(arr)-1\n",
    "    while low <= high:\n",
    "        mid = low + (high - low)//2\n",
    "        if arr[mid] == key:\n",
    "            return mid\n",
    "        elif arr[mid] < key:\n",
    "            low = mid + 1\n",
    "        else:\n",
    "            high = mid -1\n",
    "    return -1"
   ],
   "id": "59183c58c1cca562",
   "outputs": [],
   "execution_count": null
  },
  {
   "metadata": {},
   "cell_type": "code",
   "source": "binary_search(arr, 9)",
   "id": "c9975f7964a1e813",
   "outputs": [],
   "execution_count": null
  },
  {
   "metadata": {},
   "cell_type": "code",
   "source": [
    "def binary_search_inner(arr, low, high, key):\n",
    "    \n",
    "    if low > high:\n",
    "        return -1\n",
    "    \n",
    "    else:\n",
    "        mid = low + (high - low)//2\n",
    "        if arr[mid] == key:\n",
    "            return mid\n",
    "        elif arr[mid] < key:\n",
    "            return binary_search_inner(arr, low+1, high, key)\n",
    "        else:\n",
    "            return binary_search_inner(arr, high-1, high, key)"
   ],
   "id": "477be96f03e0d35a",
   "outputs": [],
   "execution_count": null
  },
  {
   "metadata": {},
   "cell_type": "code",
   "source": "binary_search(arr, 0, len(arr)-1, 9)",
   "id": "52320514cba7259e",
   "outputs": [],
   "execution_count": null
  },
  {
   "metadata": {},
   "cell_type": "code",
   "source": [
    "def binary_search_ver2(arr, key, low=0, high=None):\n",
    "    if high is None:\n",
    "        high = len(arr) - 1\n",
    "    mid = low +(high-low)//2\n",
    "\n",
    "    if low > high:\n",
    "        return -1\n",
    "\n",
    "    else:\n",
    "        if arr[mid] == key:\n",
    "            return mid\n",
    "        elif arr[mid] < key:\n",
    "            return binary_search_ver2(arr, key, low+1, high)\n",
    "        else:\n",
    "            return binary_search_ver2(arr, key, low, high-1)\n"
   ],
   "id": "71988ac133b541dd",
   "outputs": [],
   "execution_count": null
  },
  {
   "metadata": {},
   "cell_type": "code",
   "source": "binary_search_ver2(arr, 1)",
   "id": "2ba9325702cff388",
   "outputs": [],
   "execution_count": null
  },
  {
   "metadata": {},
   "cell_type": "code",
   "source": [
    "def bst(array, key):\n",
    "    # array sort 구현(버블정렬)\n",
    "    for i in range(len(array)):\n",
    "        for j in range(0,len(array)-i-1):\n",
    "            if array[j] > array[j+1]:\n",
    "                temp = array[j]\n",
    "                array[j]= array[j+1]\n",
    "                array[j+1]= temp\n",
    "    new_arr = array\n",
    "    print(new_arr)\n",
    "\n",
    "    low = 0\n",
    "    high = len(array)-1\n",
    "    \n",
    "    while low<=high:\n",
    "        mid = low+(high-low)//2\n",
    "        if new_arr[mid]==key:\n",
    "            return mid\n",
    "        elif new_arr[mid]<key:\n",
    "            low = mid+1\n",
    "        else: high = mid-1\n",
    "    return -1\n"
   ],
   "id": "47d986ac457a9023",
   "outputs": [],
   "execution_count": null
  },
  {
   "metadata": {},
   "cell_type": "code",
   "source": [
    "data = [11,25,6,1,9]\n",
    "print(bst(data, 9))"
   ],
   "id": "b1158f4f1ff97cf",
   "outputs": [],
   "execution_count": null
  }
 ],
 "metadata": {
  "kernelspec": {
   "display_name": "Python 3",
   "language": "python",
   "name": "python3"
  },
  "language_info": {
   "codemirror_mode": {
    "name": "ipython",
    "version": 2
   },
   "file_extension": ".py",
   "mimetype": "text/x-python",
   "name": "python",
   "nbconvert_exporter": "python",
   "pygments_lexer": "ipython2",
   "version": "2.7.6"
  }
 },
 "nbformat": 4,
 "nbformat_minor": 5
}
