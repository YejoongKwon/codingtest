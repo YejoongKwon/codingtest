{
 "cells": [
  {
   "metadata": {},
   "cell_type": "markdown",
   "source": [
    "# 버블 정렬 \n",
    "https://maramarathon.tistory.com/51 \\\n",
    "두 원소를 비교해 나가며 가장 큰 원소를 끝으로 보내는 과정을 N-1번 반복하는 알고리즘\n",
    "\n",
    "버블정렬은 외부 루프를 N-1번 도는 동안, N-1, N-2, N-3, ... , 1 번 인접한 원소들을 비교한다. \n",
    "\n",
    "따라서 T(n) = (n-1)+(n-2)+(n-3)+...+1 = (n-1)*n/2\n",
    "\n",
    "O(n) = n^2 이다.\n",
    "```\n",
    "bubblesSort(array)\n",
    "    for i < -1 to indexOfLastUnsortedElement-1\n",
    "        if leftElem > rightElem\n",
    "            swap leftElem and rightElem\n",
    "end bubbleSort\n",
    "```"
   ],
   "id": "8164f1f6453c65e3"
  },
  {
   "cell_type": "code",
   "id": "initial_id",
   "metadata": {
    "collapsed": true,
    "ExecuteTime": {
     "end_time": "2025-08-02T12:51:25.211613Z",
     "start_time": "2025-08-02T12:51:25.206232Z"
    }
   },
   "source": [
    "def bubblesort(array):\n",
    "    for i in range(len(array)): #0, 1, 2, 3. 4. 5\n",
    "        for j in range(0, len(array) - i - 1): # 0~4, 0~3, 0~2, 0~1, 0~0(빈 시퀀스)\n",
    "            # change > to < to sort in descending order\n",
    "            if array[j] > array[j+1]:\n",
    "                # swap\n",
    "                temp = array[j]\n",
    "                array[j] = array[j+1]\n",
    "                array[j+1] = temp\n",
    "                \n",
    "    return array\n",
    "data = [-2, 45, 0, 11, -9]\n",
    "bubblesort(data)"
   ],
   "outputs": [
    {
     "data": {
      "text/plain": [
       "[-9, -2, 0, 11, 45]"
      ]
     },
     "execution_count": 9,
     "metadata": {},
     "output_type": "execute_result"
    }
   ],
   "execution_count": 9
  },
  {
   "metadata": {},
   "cell_type": "markdown",
   "source": [
    "문제점 : 배열이 이미 정렬되어 있어도 모든 비교가 수행 -> 비효율. \n",
    "- 추가 변수 '교환됨' true/false\n",
    "swapped 플래그로 교환 여부를 확인\n",
    "\n",
    "한 회차에서 교환이 한 번도 없으면, 배열이 이미 정렬된 상태이므로 즉시 종료\n",
    "\n",
    "최선의 경우(이미 정렬된 배열) → O(n) 으로 시간 복잡도 개선 가능\n",
    "- arr = [1, 2, 3, 4, 5]\n",
    "- 첫 회전에서 swapped = False → 즉시 break → 단 4번만 비교\n",
    "\n",
    "최악의 경우(역순 배열) → 여전히 O(n²)"
   ],
   "id": "984f6ab2d730dd93"
  },
  {
   "metadata": {
    "ExecuteTime": {
     "end_time": "2025-08-02T13:12:17.716963Z",
     "start_time": "2025-08-02T13:12:17.712836Z"
    }
   },
   "cell_type": "code",
   "source": [
    "def bubble_swaped(array):\n",
    "    for i in range(len(array)): # 배열전체 i번 반복(1회 될때마다 가장 큰 값이 맨 오른쪽으로 이동)\n",
    "    \n",
    "    # keep track of swapping\n",
    "        swapped = False # 이번 회전에서 교환이 일어났는지 아닌지 기록\n",
    "    \n",
    "        for j in range(0,len(array) - i  -1): # 이미 뒤쪽의 i개는 정렬됨 -> 비교범위 줄임.\n",
    "            if array[j] > array[j+1]: # 인접원소 비교\n",
    "                temp = array[j]       # 두 원소 교환\n",
    "                array[j] = array[j+1]\n",
    "                array[j+1] = temp\n",
    "                swapped = True # 교환이 발생했음을 기록\n",
    "        if not swapped: # 한번도 교환 없었으면 -> 이미 정렬된 상태\n",
    "            break       # 반복문 중단 (early stopping)\n",
    "    return array\n"
   ],
   "id": "7d46b5001edd9a9d",
   "outputs": [],
   "execution_count": 15
  },
  {
   "metadata": {
    "ExecuteTime": {
     "end_time": "2025-08-02T13:12:21.416382Z",
     "start_time": "2025-08-02T13:12:21.410034Z"
    }
   },
   "cell_type": "code",
   "source": [
    "data = [23,4,1,5]\n",
    "bubble_swaped(data)"
   ],
   "id": "1a6bb8ff2c02a541",
   "outputs": [
    {
     "data": {
      "text/plain": [
       "[1, 4, 5, 23]"
      ]
     },
     "execution_count": 16,
     "metadata": {},
     "output_type": "execute_result"
    }
   ],
   "execution_count": 16
  },
  {
   "metadata": {},
   "cell_type": "markdown",
   "source": [
    "## 삽입정렬\n",
    "비교 대상 원소가 새로운 원소보다 클 때만 한자리 뒤로 이동 \\\n",
    "동일한 원소의 우선순위는 처음 정렬과 동일하게 유지된다.\n",
    "* worst :  모든 원소 역순 정렬 - O(n) = n^2\n",
    "* best: 모든 원소가 이미 정렬 -> O(n) = n"
   ],
   "id": "7f33c0ba331a1379"
  },
  {
   "metadata": {
    "ExecuteTime": {
     "end_time": "2025-08-03T01:47:46.295075Z",
     "start_time": "2025-08-03T01:47:46.285214Z"
    }
   },
   "cell_type": "code",
   "source": [
    "def insertionSort(array):\n",
    "    for step in range(1,len(array)):\n",
    "        key = array[step]\n",
    "        j = step - 1\n",
    "        count = 0\n",
    "\n",
    "        while j >= 0 and key < array[j]:\n",
    "            array[j+1] = array[j]\n",
    "            j = j - 1\n",
    "            print(f'array in step{step} : {array}')\n",
    "            count += 1\n",
    "        # while 문이 끝나면, j는 key가 들어갈 위치 바로 앞(왼쪽) 인덱스를 가리키고 있다.\n",
    "        # place key at after the element just smaller than it\n",
    "        array[j+1] = key\n",
    "        print(f'step:{step}')\n",
    "        print(f'count:{count}')\n",
    "        print(f'array:{array}')\n",
    "    # return array\n",
    "data = [35,10,5,1]\n",
    "insertionSort(data)"
   ],
   "id": "428f2bfed883b273",
   "outputs": [
    {
     "name": "stdout",
     "output_type": "stream",
     "text": [
      "array in step1 : [35, 35, 5, 1]\n",
      "step:1\n",
      "count:1\n",
      "array:[10, 35, 5, 1]\n",
      "array in step2 : [10, 35, 35, 1]\n",
      "array in step2 : [10, 10, 35, 1]\n",
      "step:2\n",
      "count:2\n",
      "array:[5, 10, 35, 1]\n",
      "array in step3 : [5, 10, 35, 35]\n",
      "array in step3 : [5, 10, 10, 35]\n",
      "array in step3 : [5, 5, 10, 35]\n",
      "step:3\n",
      "count:3\n",
      "array:[1, 5, 10, 35]\n"
     ]
    }
   ],
   "execution_count": 26
  },
  {
   "metadata": {},
   "cell_type": "markdown",
   "source": [
    "# 병합정렬\n",
    "\n",
    "분할(split) 단계와 방합(merge) 단계\n",
    "\n",
    " 8 -> 4 -> 2 -> 1 식으로 전반적인 반복의 수는 점점 절반으로 줄어들 기 때문에 O(logN) 시간이 필요\n",
    " \n",
    "병합할 때 모든 값들을 비교해야 하므로 O(N) 시간이 소모됩니다. 따라서 총 시간 복잡도는 O(NlogN)"
   ],
   "id": "1004fc8395912785"
  },
  {
   "metadata": {
    "ExecuteTime": {
     "end_time": "2025-08-03T03:00:08.237216Z",
     "start_time": "2025-08-03T03:00:08.228259Z"
    }
   },
   "cell_type": "code",
   "source": [
    "a = [1]\n",
    "len(a)"
   ],
   "id": "d0a347eb167cf075",
   "outputs": [
    {
     "data": {
      "text/plain": [
       "1"
      ]
     },
     "execution_count": 29,
     "metadata": {},
     "output_type": "execute_result"
    }
   ],
   "execution_count": 29
  },
  {
   "metadata": {
    "ExecuteTime": {
     "end_time": "2025-08-03T03:27:43.391896Z",
     "start_time": "2025-08-03T03:27:43.381135Z"
    }
   },
   "cell_type": "code",
   "source": [
    "def merge_sort(arr, depth=0):\n",
    "    indent = \"  \" * depth  # 단계별 들여쓰기\n",
    "    print(f\"{indent}정렬 시작: {arr}\")\n",
    "\n",
    "    if len(arr) < 2: # 기저 조건 (Base case) : 재귀 호출을 멈춤. 배열의 길이가 0또는1 (이미정렬된상태)\n",
    "        print(f\"{indent}기저 조건 도달: {arr}\")\n",
    "        return arr\n",
    "\n",
    "    mid = len(arr) // 2\n",
    "    low_arr = merge_sort(arr[:mid], depth + 1)\n",
    "    high_arr = merge_sort(arr[mid:], depth + 1)\n",
    "\n",
    "    print(f\"{indent}병합 시작: {low_arr} + {high_arr}\")\n",
    "\n",
    "    merged_arr = []\n",
    "    l = h = 0\n",
    "    while l < len(low_arr) and h < len(high_arr):\n",
    "        if low_arr[l] < high_arr[h]:\n",
    "            merged_arr.append(low_arr[l]) ## 더 작은 값을 merged_arr에 추가\n",
    "            l += 1                        # low_arr의 다음 원소로 이동\n",
    "        else:\n",
    "            merged_arr.append(high_arr[h]) ## high_arr 값이 더 작거나 같으면 추가\n",
    "            h += 1                        # high_arr의 다음 원소로 이동\n",
    "\n",
    "    merged_arr += low_arr[l:]\n",
    "    merged_arr += high_arr[h:]\n",
    "\n",
    "    print(f\"{indent}병합 결과: {merged_arr}\")\n",
    "    return merged_arr\n",
    "merge_sort([5,2,9,1,100])"
   ],
   "id": "43c65d9f673368c6",
   "outputs": [
    {
     "name": "stdout",
     "output_type": "stream",
     "text": [
      "정렬 시작: [5, 2, 9, 1, 100]\n",
      "  정렬 시작: [5, 2]\n",
      "    정렬 시작: [5]\n",
      "    기저 조건 도달: [5]\n",
      "    정렬 시작: [2]\n",
      "    기저 조건 도달: [2]\n",
      "  병합 시작: [5] + [2]\n",
      "  병합 결과: [2, 5]\n",
      "  정렬 시작: [9, 1, 100]\n",
      "    정렬 시작: [9]\n",
      "    기저 조건 도달: [9]\n",
      "    정렬 시작: [1, 100]\n",
      "      정렬 시작: [1]\n",
      "      기저 조건 도달: [1]\n",
      "      정렬 시작: [100]\n",
      "      기저 조건 도달: [100]\n",
      "    병합 시작: [1] + [100]\n",
      "    병합 결과: [1, 100]\n",
      "  병합 시작: [9] + [1, 100]\n",
      "  병합 결과: [1, 9, 100]\n",
      "병합 시작: [2, 5] + [1, 9, 100]\n",
      "병합 결과: [1, 2, 5, 9, 100]\n"
     ]
    },
    {
     "data": {
      "text/plain": [
       "[1, 2, 5, 9, 100]"
      ]
     },
     "execution_count": 30,
     "metadata": {},
     "output_type": "execute_result"
    }
   ],
   "execution_count": 30
  },
  {
   "metadata": {},
   "cell_type": "markdown",
   "source": "",
   "id": "142e2053a3bef85d"
  },
  {
   "metadata": {
    "ExecuteTime": {
     "end_time": "2025-08-06T05:58:02.780903Z",
     "start_time": "2025-08-06T05:58:02.765125Z"
    }
   },
   "cell_type": "code",
   "source": [
    "def bubble_sort(arr):\n",
    "    for i in range(len(arr)):\n",
    "        swapped=False\n",
    "        for j in range(0, len(arr)-i-1):\n",
    "            if arr[j]>arr[j+1]:\n",
    "                temp = arr[j]\n",
    "                arr[j] = arr[j+1]\n",
    "                arr[j+1] = temp\n",
    "                swapped = True\n",
    "        if not swapped:\n",
    "            break\n",
    "    return arr\n",
    "data = [-2, -9, 1,3,45,2]\n",
    "bubble_sort(data)"
   ],
   "id": "8e322888882750c6",
   "outputs": [
    {
     "data": {
      "text/plain": [
       "[-9, -2, 1, 2, 3, 45]"
      ]
     },
     "execution_count": 2,
     "metadata": {},
     "output_type": "execute_result"
    }
   ],
   "execution_count": 2
  }
 ],
 "metadata": {
  "kernelspec": {
   "display_name": "Python 3",
   "language": "python",
   "name": "python3"
  },
  "language_info": {
   "codemirror_mode": {
    "name": "ipython",
    "version": 2
   },
   "file_extension": ".py",
   "mimetype": "text/x-python",
   "name": "python",
   "nbconvert_exporter": "python",
   "pygments_lexer": "ipython2",
   "version": "2.7.6"
  }
 },
 "nbformat": 4,
 "nbformat_minor": 5
}
