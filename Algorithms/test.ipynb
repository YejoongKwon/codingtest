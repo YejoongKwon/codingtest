{
 "cells": [
  {
   "metadata": {},
   "cell_type": "markdown",
   "source": "# 브루트포스 문자열 매칭 알고리즘",
   "id": "1facc840d546731b"
  },
  {
   "metadata": {},
   "cell_type": "code",
   "source": [
    "from brute_force import string_matching\n",
    "T = 'HELLOLO LOWORLD LO'\n",
    "P = 'LO'\n",
    "string_matching(T, P)"
   ],
   "id": "579331b77ec1a8b2",
   "outputs": [],
   "execution_count": null
  },
  {
   "metadata": {},
   "cell_type": "markdown",
   "source": [
    "# 최근접 점의 쌍 찾기(Closest Pair of Points)\n",
    "문제: 2차원 평면 위에 n개의 점이 주어진다. 이 중 두 점 사이의 거리가 가장 가까운 두 점을 찾아, 그 거리와 점의 인덱스를 구하라.\n"
   ],
   "id": "a558a959ec9a7ba2"
  },
  {
   "metadata": {},
   "cell_type": "code",
   "source": [
    "from brute_force import closest_pair\n",
    "p=[(2,3),(12,30),(40,50),(5,1),(12,10),(3,4)]\n",
    "closest_pair(p)"
   ],
   "id": "3f66f4ef16f9842f",
   "outputs": [],
   "execution_count": null
  },
  {
   "metadata": {},
   "cell_type": "markdown",
   "source": "# 깊이우선탐색(DFS) -stack, 너비우선탐색(BFS) -q",
   "id": "4c8976e74d596db0"
  },
  {
   "metadata": {},
   "cell_type": "code",
   "source": [
    "mygraph = {\"A\":{\"B\",\"C\"},\n",
    "           \"B\":{\"A\",\"D\"},\n",
    "           \"C\":{\"A\",\"D\",\"E\"},\n",
    "           \"D\":{\"B\",\"C\",\"F\"},\n",
    "           \"E\":{\"H\",\"C\",\"G\"},\n",
    "           \"F\":{\"D\"},\n",
    "           \"G\":{\"E\",\"H\"},\n",
    "           \"H\":{\"E\",\"G\"}}"
   ],
   "id": "383a9b8bd24d811b",
   "outputs": [],
   "execution_count": null
  },
  {
   "metadata": {},
   "cell_type": "code",
   "source": [
    "from brute_force import dfs_stack, bfs_queue\n",
    "\n",
    "dfs_stack(mygraph, 'B')\n",
    "\n",
    "bfs_queue(mygraph, 'B')"
   ],
   "id": "104b1a95b2f4a8c7",
   "outputs": [],
   "execution_count": null
  },
  {
   "metadata": {},
   "cell_type": "markdown",
   "source": "# 정렬",
   "id": "826d2fce2d158acb"
  },
  {
   "metadata": {
    "ExecuteTime": {
     "end_time": "2025-09-10T05:36:35.049683Z",
     "start_time": "2025-09-10T05:36:35.044021Z"
    }
   },
   "cell_type": "code",
   "source": [
    "from sort import select_sort, bubble_sort, quicksort\n",
    "myarr = [1, 5, 6, 21, 8, 9, 10]"
   ],
   "id": "7eae6dfe4c86b29f",
   "outputs": [],
   "execution_count": 1
  },
  {
   "metadata": {
    "ExecuteTime": {
     "end_time": "2025-09-10T05:36:36.211395Z",
     "start_time": "2025-09-10T05:36:36.204994Z"
    }
   },
   "cell_type": "code",
   "source": "select_sort(myarr)",
   "id": "583d272d9ce6038b",
   "outputs": [
    {
     "data": {
      "text/plain": [
       "[1, 5, 6, 8, 9, 10, 21]"
      ]
     },
     "execution_count": 2,
     "metadata": {},
     "output_type": "execute_result"
    }
   ],
   "execution_count": 2
  },
  {
   "metadata": {},
   "cell_type": "code",
   "source": [
    "quicksort(myarr, 0,len(myarr)-1)\n",
    "print(myarr)"
   ],
   "id": "e2d9506060591b28",
   "outputs": [],
   "execution_count": null
  },
  {
   "metadata": {},
   "cell_type": "code",
   "source": "select_sort(algorithm)",
   "id": "eb09ef561fbc488",
   "outputs": [],
   "execution_count": null
  },
  {
   "metadata": {},
   "cell_type": "markdown",
   "source": [
    "# binary search\n",
    "binary_search를 쓰려면 입력 배열은 이미 정렬되어 있다는 전제를 두는 게 일반적입니다"
   ],
   "id": "ce2a775b848a17b"
  },
  {
   "metadata": {},
   "cell_type": "code",
   "source": [
    "from brute_force import binary_search\n",
    "binary_search([1,6,8,13,15], 8)"
   ],
   "id": "413a6a82d0334f7a",
   "outputs": [],
   "execution_count": null
  }
 ],
 "metadata": {
  "kernelspec": {
   "display_name": "Python 3",
   "language": "python",
   "name": "python3"
  },
  "language_info": {
   "codemirror_mode": {
    "name": "ipython",
    "version": 2
   },
   "file_extension": ".py",
   "mimetype": "text/x-python",
   "name": "python",
   "nbconvert_exporter": "python",
   "pygments_lexer": "ipython2",
   "version": "2.7.6"
  }
 },
 "nbformat": 4,
 "nbformat_minor": 5
}
