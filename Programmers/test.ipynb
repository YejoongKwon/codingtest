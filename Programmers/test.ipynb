{
 "cells": [
  {
   "metadata": {},
   "cell_type": "code",
   "source": "ll = ['a','c','b']\n",
   "id": "796dd43aa92e80cb",
   "outputs": [],
   "execution_count": null
  },
  {
   "metadata": {},
   "cell_type": "code",
   "source": "ll",
   "id": "c39615742f381773",
   "outputs": [],
   "execution_count": null
  },
  {
   "cell_type": "code",
   "id": "initial_id",
   "metadata": {
    "collapsed": true
   },
   "source": "print(len(str(30)))",
   "outputs": [],
   "execution_count": null
  },
  {
   "metadata": {},
   "cell_type": "code",
   "source": [
    "a = [1, 2, 3, 4]\n",
    "a.reverse()\n",
    "print(a)  # 출력: [4, 3, 2, 1]"
   ],
   "id": "805602a933402934",
   "outputs": [],
   "execution_count": null
  },
  {
   "metadata": {},
   "cell_type": "code",
   "source": [
    "a = [1, 2, 3, 4]\n",
    "b = a[::-1]"
   ],
   "id": "d9af4029fea69e3e",
   "outputs": [],
   "execution_count": null
  },
  {
   "metadata": {},
   "cell_type": "code",
   "source": "a = ['',1, 2, 3, 4]",
   "id": "36d24caae55d5179",
   "outputs": [],
   "execution_count": null
  },
  {
   "metadata": {
    "ExecuteTime": {
     "end_time": "2025-07-05T10:50:41.358402Z",
     "start_time": "2025-07-05T10:50:41.352924Z"
    }
   },
   "cell_type": "code",
   "source": [
    "#3. 길이를 기준으로 정렬하고, 오름차순(사전순)으로 정렬\n",
    "my_list = [\"api\", \"app\", \"carrier\", \"demon\", \"aaa\"]\n",
    "sorted = sorted(my_list, key=lambda x : (len(x), x))"
   ],
   "id": "d3475ac1d9be0f65",
   "outputs": [],
   "execution_count": 1
  },
  {
   "metadata": {
    "ExecuteTime": {
     "end_time": "2025-07-05T11:10:42.055535Z",
     "start_time": "2025-07-05T11:10:40.274144Z"
    }
   },
   "cell_type": "code",
   "source": [
    "a = input()\n",
    "print(int(a[-2]))\n",
    "# print(a[:-2]*int(a[-1]))"
   ],
   "id": "e990e5b2a50fc0b5",
   "outputs": [
    {
     "ename": "ValueError",
     "evalue": "invalid literal for int() with base 10: ' '",
     "output_type": "error",
     "traceback": [
      "\u001B[0;31m---------------------------------------------------------------------------\u001B[0m",
      "\u001B[0;31mValueError\u001B[0m                                Traceback (most recent call last)",
      "Cell \u001B[0;32mIn[9], line 2\u001B[0m\n\u001B[1;32m      1\u001B[0m a \u001B[38;5;241m=\u001B[39m \u001B[38;5;28minput\u001B[39m()\n\u001B[0;32m----> 2\u001B[0m \u001B[38;5;28mprint\u001B[39m(\u001B[38;5;28;43mint\u001B[39;49m\u001B[43m(\u001B[49m\u001B[43ma\u001B[49m\u001B[43m[\u001B[49m\u001B[38;5;241;43m-\u001B[39;49m\u001B[38;5;241;43m2\u001B[39;49m\u001B[43m]\u001B[49m\u001B[43m)\u001B[49m)\n\u001B[1;32m      3\u001B[0m \u001B[38;5;66;03m# print(a[:-2]*int(a[-1]))\u001B[39;00m\n",
      "\u001B[0;31mValueError\u001B[0m: invalid literal for int() with base 10: ' '"
     ]
    }
   ],
   "execution_count": 9
  },
  {
   "metadata": {},
   "cell_type": "code",
   "source": [
    "my_string = 'banana'\n",
    "for i in range(len(my_string)):\n",
    "    print(my_string[i:])"
   ],
   "id": "fe4794b25d02f092",
   "outputs": [],
   "execution_count": null
  },
  {
   "metadata": {},
   "cell_type": "code",
   "outputs": [],
   "execution_count": null,
   "source": [
    "def solution(my_string, overwrite_string, s):\n",
    "    answer = ''\n",
    "    for i in range(len(my_string)):\n",
    "        if i<s or i>len(overwrite_string)+s-1:\n",
    "            answer += my_string[i]\n",
    "        else:\n",
    "            answer += overwrite_string[i-s]\n",
    "    return answer"
   ],
   "id": "feba7c89d6bcb371"
  },
  {
   "metadata": {},
   "cell_type": "markdown",
   "source": "",
   "id": "97ad06c2c5af8399"
  },
  {
   "metadata": {
    "ExecuteTime": {
     "end_time": "2025-07-05T12:23:21.026687Z",
     "start_time": "2025-07-05T12:23:21.019627Z"
    }
   },
   "cell_type": "code",
   "source": "len(\"abcdef\")",
   "id": "5fe2523ae74bd3f5",
   "outputs": [
    {
     "data": {
      "text/plain": [
       "6"
      ]
     },
     "execution_count": 10,
     "metadata": {},
     "output_type": "execute_result"
    }
   ],
   "execution_count": 10
  },
  {
   "metadata": {},
   "cell_type": "code",
   "source": "print(dir(str))",
   "id": "3c781645df69ecd4",
   "outputs": [],
   "execution_count": null
  },
  {
   "metadata": {},
   "cell_type": "code",
   "source": [
    "def solution(order):\n",
    "\n",
    "\n",
    "    final_orders = []\n",
    "    cafelatte = 0\n",
    "    americano = 0\n",
    "    total = 0\n",
    "\n",
    "    for v in order:\n",
    "        # americano \"아무거나\" -> americano , cafelatte\n",
    "        if 'cafelatte' in v:\n",
    "            if 'hot' in v:\n",
    "                candid = \"따뜻한 카페 라테\"\n",
    "            else:\n",
    "                candid = \"차가운 카페 라테\"\n",
    "            final_orders.append(candid)\n",
    "            total += 5000\n",
    "            cafelatte += 1\n",
    "        else:\n",
    "            if 'hot' in v:\n",
    "                candid = \"따뜻한 아메리카노\"\n",
    "            else:\n",
    "                candid = \"차가운 아메리카노\"\n",
    "            final_orders.append(candid)\n",
    "            total += 4500\n",
    "            americano += 1\n",
    "    "
   ],
   "id": "26496121039155c3",
   "outputs": [],
   "execution_count": null
  },
  {
   "metadata": {},
   "cell_type": "code",
   "source": "solution([\"cafelatte\", \"americanoice\", \"hotcafelatte\", \"anything\"]\t) # \"차가운 카페 라테\" \"차가운 아메리카노\" \"따뜻한 카페 라테\" \"차가운 아메리카노\"",
   "id": "aae53e4f8c2943ab",
   "outputs": [],
   "execution_count": null
  },
  {
   "metadata": {},
   "cell_type": "code",
   "source": [
    "def solution(order):\n",
    "    total = sum([5000 if 'latte' in orde else 4500 for orde in order])\n",
    "    return total"
   ],
   "id": "f72cb4452bd3bb55",
   "outputs": [],
   "execution_count": null
  },
  {
   "metadata": {},
   "cell_type": "code",
   "source": "solution([\"cafelatte\", \"americanoice\", \"hotcafelatte\", \"anything\"]\t) # \"차가운 카페 라테\" \"차가운 아메리카노\" \"따뜻한 카페 라테\" \"차가운 아메리카노\"\n",
   "id": "91db6856a8c14d6c",
   "outputs": [],
   "execution_count": null
  },
  {
   "metadata": {},
   "cell_type": "code",
   "source": "max(1,1)",
   "id": "20f5b3fe5fd47a2b",
   "outputs": [],
   "execution_count": null
  },
  {
   "metadata": {},
   "cell_type": "code",
   "source": [
    "from collections import Counter\n",
    "def solution(a, b, c):\n",
    "    counter = Counter([a,b,c])\n",
    "    if 3 in counter.values():\n",
    "        score = (a+b+c)*(a**2+b**2+c**2)*(a**3+b**3+c**3)\n",
    "    elif 2 in counter.values():\n",
    "        score = (a+b+c)*(a**2+b**2+c**2)\n",
    "    else:\n",
    "        score = a+b+c\n",
    "    return score"
   ],
   "id": "613042c4103c30a",
   "outputs": [],
   "execution_count": null
  },
  {
   "metadata": {},
   "cell_type": "code",
   "source": "",
   "id": "eb4ddc6aa7604ff2",
   "outputs": [],
   "execution_count": null
  },
  {
   "metadata": {},
   "cell_type": "code",
   "source": [
    "from collections import Counter\n",
    "def solution(a, b, c):\n",
    "    nums = {a,b,c}\n",
    "    if  len(nums)==1:\n",
    "        score = (a+b+c)*(a**2+b**2+c**2)*(a**3+b**3+c**3)\n",
    "    elif len(nums)==3:\n",
    "        score = a+b+c\n",
    "    else:\n",
    "        score = (a+b+c)*(a**2+b**2+c**2)\n",
    "\n",
    "    return score"
   ],
   "id": "77460ae67ea1f683",
   "outputs": [],
   "execution_count": null
  },
  {
   "metadata": {},
   "cell_type": "code",
   "source": [
    "def solution(my_string, index_list):\n",
    "    answer = ''.join([my_string[i] for i in index_list])\n",
    "    return answer"
   ],
   "id": "748cee5036e6cb8a",
   "outputs": [],
   "execution_count": null
  },
  {
   "metadata": {},
   "cell_type": "markdown",
   "source": "",
   "id": "73eb5d399f010266"
  },
  {
   "metadata": {},
   "cell_type": "code",
   "source": "solution('cvsgiorszzzmrpaqpe',[16, 6, 5, 3, 12, 14, 11, 11, 17, 12, 7])",
   "id": "261d89477fd0db8a",
   "outputs": [],
   "execution_count": null
  },
  {
   "metadata": {},
   "cell_type": "code",
   "source": [
    "def solution(number):\n",
    "    return sum(map(int, number)) %9\n",
    "solution('123')"
   ],
   "id": "8942d25df8c8e371",
   "outputs": [],
   "execution_count": null
  },
  {
   "metadata": {
    "ExecuteTime": {
     "end_time": "2025-07-08T03:13:37.916402Z",
     "start_time": "2025-07-08T03:13:37.911040Z"
    }
   },
   "cell_type": "code",
   "source": [
    "# 최대공약수\n",
    "def solution(a, b):\n",
    "    _a = [i for i in range(1, (a//2)+1) if a%i ==0] + [a]\n",
    "    _b = [i for i in range(1, (b//2)+1) if b%i ==0] + [b]\n",
    "    # union = set(_a+_b)\n",
    "    common = list(set(_a) & set(_b))\n",
    "    return(max(common))"
   ],
   "id": "77fb7710ab596c21",
   "outputs": [],
   "execution_count": 38
  },
  {
   "metadata": {
    "ExecuteTime": {
     "end_time": "2025-07-08T03:16:51.726233Z",
     "start_time": "2025-07-08T03:16:51.723747Z"
    }
   },
   "cell_type": "code",
   "source": [
    "# 최소공배수\n",
    "def solution(a, b):\n",
    "    _a = [a*i for i in range(1, a*b+1)] + [a]\n",
    "    _b = [b*i for i in range(1, a*b+1)] + [b]\n",
    "    # union = set(_a+_b)\n",
    "    common = list(set(_a) & set(_b))\n",
    "    return(min(common))"
   ],
   "id": "53fc89ab086fbec1",
   "outputs": [],
   "execution_count": 44
  },
  {
   "metadata": {
    "ExecuteTime": {
     "end_time": "2025-07-08T03:17:13.691508Z",
     "start_time": "2025-07-08T03:17:13.688717Z"
    }
   },
   "cell_type": "code",
   "source": "solution(12, 18)",
   "id": "7f5864209ce91799",
   "outputs": [
    {
     "data": {
      "text/plain": [
       "36"
      ]
     },
     "execution_count": 48,
     "metadata": {},
     "output_type": "execute_result"
    }
   ],
   "execution_count": 48
  },
  {
   "metadata": {},
   "cell_type": "code",
   "outputs": [],
   "execution_count": null,
   "source": "list(set(a)&set(b))",
   "id": "e8f163c4422f9fd8"
  },
  {
   "metadata": {},
   "cell_type": "code",
   "outputs": [],
   "execution_count": null,
   "source": [
    "def solution(n, w, num):\n",
    "    arr = [[0]*w] * int(n//w+1)\n",
    "    multiple_list = [w*i for i in range(1, len(arr)+1)]\n",
    "    print(f'len(arr):{len(arr)}, multiple_list:{multiple_list}')\n",
    "\n",
    "    # len(arr) 짝수일때 왼쪽에서 채우기 시작, 홀수일때 오른쪽에서 채우기 시작    \n",
    "    diff = multiple_list[-1] - n\n",
    "    print(f'diff:{diff}')\n",
    "\n",
    "    i = 0\n",
    "    for l in multiple_list:\n",
    "        if num<=l:\n",
    "            if len(arr)%2 ==0: # 짝수 즉 맨윗줄 오른쪽에서 채우기 시작\n",
    "                print('맨위짝')\n",
    "                print(f'l:{l}, num:{num}, i:{i}')\n",
    "                # return l\n",
    "                if (i+1)%2 ==0:\n",
    "                    print('num라인 짝') # 짝수 즉 오른쪽에서 채우기 시작\n",
    "                    point_num = l-num +1  #5\n",
    "                    point_last = diff+1   #3\n",
    "                    if point_num >= point_last: return len(arr)-(i+1)\n",
    "                    else: return len(arr)-(i+1)-1\n",
    "                else:\n",
    "                    print('num라인 홀') # 홀수 즉 왼쪽에서 채우기 시작\n",
    "                    point_num =\n",
    "                    point_last = diff+1   #3\n",
    "                    if point_num >= point_last: return len(arr)-(i+1)\n",
    "                    else: return len(arr)-(i+1)-1\n",
    "            else:              # 홀수 즉 맨윗줄 왼쪽에서부터 채우기 시작\n",
    "                print('맨위홀')\n",
    "                print(f'l:{l}, num:{num}, i:{i}')\n",
    "                if diff< l-num: return l-num\n",
    "                else: return l-num+1\n",
    "        else: i+=1\n",
    "\n",
    "    # 오른쪽에서 채운다는 뜻은 맨윗줄이 diff+1부터 채워진것이고,         \n",
    "    # 왼쪽부터 채운다는 뜻은 맨윗줄이 "
   ],
   "id": "d1844e5e291e39"
  },
  {
   "metadata": {
    "ExecuteTime": {
     "end_time": "2025-07-08T08:17:13.614948Z",
     "start_time": "2025-07-08T08:17:13.607456Z"
    }
   },
   "cell_type": "code",
   "source": [
    "\n",
    "# 지그재그로 행렬값 채우기\n",
    "def solution(n, w, num):\n",
    "    colnum = w\n",
    "    rownum = (n - 1) // w + 1\n",
    "    arr = [[0] * colnum for _ in range(rownum)]\n",
    "\n",
    "    count = 1\n",
    "    for i in range(rownum):\n",
    "        if i % 2 == 0:  # 왼쪽 -> 오른쪽\n",
    "            for j in range(colnum):\n",
    "                if count > n:\n",
    "                    break\n",
    "                arr[i][j] = count\n",
    "                count += 1\n",
    "        else:  # 오른쪽 -> 왼쪽\n",
    "            for j in range(colnum - 1, -1, -1): #colnum -1 부터 -1이 될때까지 하나씩 줄여나가는 range\n",
    "                if count > n:\n",
    "                    break\n",
    "                arr[i][j] = count\n",
    "                count += 1\n",
    "    arr_reversed = arr[::-1]\n",
    "    \n",
    "\n",
    "    for i in range(len(arr_reversed)):\n",
    "        for j in range(len(arr_reversed[i])):\n",
    "            if arr_reversed[i][j] == num:\n",
    "                point = (i,j)\n",
    "                if arr_reversed[0][j] == 0: return i-1\n",
    "                # else: return i"
   ],
   "id": "4a46bcccb52d9763",
   "outputs": [],
   "execution_count": 107
  },
  {
   "metadata": {
    "ExecuteTime": {
     "end_time": "2025-07-08T08:17:14.506196Z",
     "start_time": "2025-07-08T08:17:14.501878Z"
    }
   },
   "cell_type": "code",
   "source": [
    "get = solution(23, 5, 17)\n",
    "get"
   ],
   "id": "fe6e00afa435e843",
   "outputs": [
    {
     "data": {
      "text/plain": [
       "0"
      ]
     },
     "execution_count": 108,
     "metadata": {},
     "output_type": "execute_result"
    }
   ],
   "execution_count": 108
  },
  {
   "metadata": {
    "ExecuteTime": {
     "end_time": "2025-07-08T08:05:52.735075Z",
     "start_time": "2025-07-08T08:05:52.731530Z"
    }
   },
   "cell_type": "code",
   "source": "arr_reversed",
   "id": "cbe666ecdbfd7b40",
   "outputs": [
    {
     "data": {
      "text/plain": [
       "[[21, 22, 23, 0, 0],\n",
       " [20, 19, 18, 17, 16],\n",
       " [11, 12, 13, 14, 15],\n",
       " [10, 9, 8, 7, 6],\n",
       " [1, 2, 3, 4, 5]]"
      ]
     },
     "execution_count": 62,
     "metadata": {},
     "output_type": "execute_result"
    }
   ],
   "execution_count": 62
  },
  {
   "metadata": {
    "ExecuteTime": {
     "end_time": "2025-07-08T08:07:01.694664Z",
     "start_time": "2025-07-08T08:07:01.690833Z"
    }
   },
   "cell_type": "code",
   "source": [
    "\n",
    "\n",
    "  "
   ],
   "id": "c49bc81332526e1e",
   "outputs": [
    {
     "name": "stdout",
     "output_type": "stream",
     "text": [
      "1\n",
      "3\n"
     ]
    }
   ],
   "execution_count": 68
  }
 ],
 "metadata": {
  "kernelspec": {
   "display_name": "Python 3",
   "language": "python",
   "name": "python3"
  },
  "language_info": {
   "codemirror_mode": {
    "name": "ipython",
    "version": 2
   },
   "file_extension": ".py",
   "mimetype": "text/x-python",
   "name": "python",
   "nbconvert_exporter": "python",
   "pygments_lexer": "ipython2",
   "version": "2.7.6"
  }
 },
 "nbformat": 4,
 "nbformat_minor": 5
}
